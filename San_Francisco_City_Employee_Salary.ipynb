{
  "nbformat": 4,
  "nbformat_minor": 0,
  "metadata": {
    "colab": {
      "provenance": []
    },
    "kernelspec": {
      "name": "python3",
      "display_name": "Python 3"
    },
    "language_info": {
      "name": "python"
    }
  },
  "cells": [
    {
      "cell_type": "markdown",
      "source": [
        "# **To perform data analysis, I have mentioned 21 questions that we are going to solve one by one. Questions are as follows.**"
      ],
      "metadata": {
        "id": "1gXHs8W_9rQl"
      }
    },
    {
      "cell_type": "code",
      "execution_count": 1,
      "metadata": {
        "id": "gngD24QR01Nm"
      },
      "outputs": [],
      "source": [
        "import pandas as pd \n",
        "import numpy as np\n",
        "import matplotlib.pyplot as plt\n",
        "import seaborn as sns "
      ]
    },
    {
      "cell_type": "code",
      "source": [
        "df=pd.read_csv('Salaries.csv')\n",
        "df.head()"
      ],
      "metadata": {
        "colab": {
          "base_uri": "https://localhost:8080/",
          "height": 530
        },
        "id": "kM6_f0E89lu7",
        "outputId": "e143e705-51b6-4418-b19e-9133b40f4dab"
      },
      "execution_count": 2,
      "outputs": [
        {
          "output_type": "execute_result",
          "data": {
            "text/plain": [
              "   Id       EmployeeName                                        JobTitle  \\\n",
              "0   1     NATHANIEL FORD  GENERAL MANAGER-METROPOLITAN TRANSIT AUTHORITY   \n",
              "1   2       GARY JIMENEZ                 CAPTAIN III (POLICE DEPARTMENT)   \n",
              "2   3     ALBERT PARDINI                 CAPTAIN III (POLICE DEPARTMENT)   \n",
              "3   4  CHRISTOPHER CHONG            WIRE ROPE CABLE MAINTENANCE MECHANIC   \n",
              "4   5    PATRICK GARDNER    DEPUTY CHIEF OF DEPARTMENT,(FIRE DEPARTMENT)   \n",
              "\n",
              "     BasePay  OvertimePay   OtherPay  Benefits   TotalPay  TotalPayBenefits  \\\n",
              "0  167411.18         0.00  400184.25       NaN  567595.43         567595.43   \n",
              "1  155966.02    245131.88  137811.38       NaN  538909.28         538909.28   \n",
              "2  212739.13    106088.18   16452.60       NaN  335279.91         335279.91   \n",
              "3   77916.00     56120.71  198306.90       NaN  332343.61         332343.61   \n",
              "4  134401.60      9737.00  182234.59       NaN  326373.19         326373.19   \n",
              "\n",
              "   Year  Notes         Agency  Status  \n",
              "0  2011    NaN  San Francisco     NaN  \n",
              "1  2011    NaN  San Francisco     NaN  \n",
              "2  2011    NaN  San Francisco     NaN  \n",
              "3  2011    NaN  San Francisco     NaN  \n",
              "4  2011    NaN  San Francisco     NaN  "
            ],
            "text/html": [
              "\n",
              "  <div id=\"df-9f962513-662f-4ae7-81e1-7d65f76d91de\">\n",
              "    <div class=\"colab-df-container\">\n",
              "      <div>\n",
              "<style scoped>\n",
              "    .dataframe tbody tr th:only-of-type {\n",
              "        vertical-align: middle;\n",
              "    }\n",
              "\n",
              "    .dataframe tbody tr th {\n",
              "        vertical-align: top;\n",
              "    }\n",
              "\n",
              "    .dataframe thead th {\n",
              "        text-align: right;\n",
              "    }\n",
              "</style>\n",
              "<table border=\"1\" class=\"dataframe\">\n",
              "  <thead>\n",
              "    <tr style=\"text-align: right;\">\n",
              "      <th></th>\n",
              "      <th>Id</th>\n",
              "      <th>EmployeeName</th>\n",
              "      <th>JobTitle</th>\n",
              "      <th>BasePay</th>\n",
              "      <th>OvertimePay</th>\n",
              "      <th>OtherPay</th>\n",
              "      <th>Benefits</th>\n",
              "      <th>TotalPay</th>\n",
              "      <th>TotalPayBenefits</th>\n",
              "      <th>Year</th>\n",
              "      <th>Notes</th>\n",
              "      <th>Agency</th>\n",
              "      <th>Status</th>\n",
              "    </tr>\n",
              "  </thead>\n",
              "  <tbody>\n",
              "    <tr>\n",
              "      <th>0</th>\n",
              "      <td>1</td>\n",
              "      <td>NATHANIEL FORD</td>\n",
              "      <td>GENERAL MANAGER-METROPOLITAN TRANSIT AUTHORITY</td>\n",
              "      <td>167411.18</td>\n",
              "      <td>0.00</td>\n",
              "      <td>400184.25</td>\n",
              "      <td>NaN</td>\n",
              "      <td>567595.43</td>\n",
              "      <td>567595.43</td>\n",
              "      <td>2011</td>\n",
              "      <td>NaN</td>\n",
              "      <td>San Francisco</td>\n",
              "      <td>NaN</td>\n",
              "    </tr>\n",
              "    <tr>\n",
              "      <th>1</th>\n",
              "      <td>2</td>\n",
              "      <td>GARY JIMENEZ</td>\n",
              "      <td>CAPTAIN III (POLICE DEPARTMENT)</td>\n",
              "      <td>155966.02</td>\n",
              "      <td>245131.88</td>\n",
              "      <td>137811.38</td>\n",
              "      <td>NaN</td>\n",
              "      <td>538909.28</td>\n",
              "      <td>538909.28</td>\n",
              "      <td>2011</td>\n",
              "      <td>NaN</td>\n",
              "      <td>San Francisco</td>\n",
              "      <td>NaN</td>\n",
              "    </tr>\n",
              "    <tr>\n",
              "      <th>2</th>\n",
              "      <td>3</td>\n",
              "      <td>ALBERT PARDINI</td>\n",
              "      <td>CAPTAIN III (POLICE DEPARTMENT)</td>\n",
              "      <td>212739.13</td>\n",
              "      <td>106088.18</td>\n",
              "      <td>16452.60</td>\n",
              "      <td>NaN</td>\n",
              "      <td>335279.91</td>\n",
              "      <td>335279.91</td>\n",
              "      <td>2011</td>\n",
              "      <td>NaN</td>\n",
              "      <td>San Francisco</td>\n",
              "      <td>NaN</td>\n",
              "    </tr>\n",
              "    <tr>\n",
              "      <th>3</th>\n",
              "      <td>4</td>\n",
              "      <td>CHRISTOPHER CHONG</td>\n",
              "      <td>WIRE ROPE CABLE MAINTENANCE MECHANIC</td>\n",
              "      <td>77916.00</td>\n",
              "      <td>56120.71</td>\n",
              "      <td>198306.90</td>\n",
              "      <td>NaN</td>\n",
              "      <td>332343.61</td>\n",
              "      <td>332343.61</td>\n",
              "      <td>2011</td>\n",
              "      <td>NaN</td>\n",
              "      <td>San Francisco</td>\n",
              "      <td>NaN</td>\n",
              "    </tr>\n",
              "    <tr>\n",
              "      <th>4</th>\n",
              "      <td>5</td>\n",
              "      <td>PATRICK GARDNER</td>\n",
              "      <td>DEPUTY CHIEF OF DEPARTMENT,(FIRE DEPARTMENT)</td>\n",
              "      <td>134401.60</td>\n",
              "      <td>9737.00</td>\n",
              "      <td>182234.59</td>\n",
              "      <td>NaN</td>\n",
              "      <td>326373.19</td>\n",
              "      <td>326373.19</td>\n",
              "      <td>2011</td>\n",
              "      <td>NaN</td>\n",
              "      <td>San Francisco</td>\n",
              "      <td>NaN</td>\n",
              "    </tr>\n",
              "  </tbody>\n",
              "</table>\n",
              "</div>\n",
              "      <button class=\"colab-df-convert\" onclick=\"convertToInteractive('df-9f962513-662f-4ae7-81e1-7d65f76d91de')\"\n",
              "              title=\"Convert this dataframe to an interactive table.\"\n",
              "              style=\"display:none;\">\n",
              "        \n",
              "  <svg xmlns=\"http://www.w3.org/2000/svg\" height=\"24px\"viewBox=\"0 0 24 24\"\n",
              "       width=\"24px\">\n",
              "    <path d=\"M0 0h24v24H0V0z\" fill=\"none\"/>\n",
              "    <path d=\"M18.56 5.44l.94 2.06.94-2.06 2.06-.94-2.06-.94-.94-2.06-.94 2.06-2.06.94zm-11 1L8.5 8.5l.94-2.06 2.06-.94-2.06-.94L8.5 2.5l-.94 2.06-2.06.94zm10 10l.94 2.06.94-2.06 2.06-.94-2.06-.94-.94-2.06-.94 2.06-2.06.94z\"/><path d=\"M17.41 7.96l-1.37-1.37c-.4-.4-.92-.59-1.43-.59-.52 0-1.04.2-1.43.59L10.3 9.45l-7.72 7.72c-.78.78-.78 2.05 0 2.83L4 21.41c.39.39.9.59 1.41.59.51 0 1.02-.2 1.41-.59l7.78-7.78 2.81-2.81c.8-.78.8-2.07 0-2.86zM5.41 20L4 18.59l7.72-7.72 1.47 1.35L5.41 20z\"/>\n",
              "  </svg>\n",
              "      </button>\n",
              "      \n",
              "  <style>\n",
              "    .colab-df-container {\n",
              "      display:flex;\n",
              "      flex-wrap:wrap;\n",
              "      gap: 12px;\n",
              "    }\n",
              "\n",
              "    .colab-df-convert {\n",
              "      background-color: #E8F0FE;\n",
              "      border: none;\n",
              "      border-radius: 50%;\n",
              "      cursor: pointer;\n",
              "      display: none;\n",
              "      fill: #1967D2;\n",
              "      height: 32px;\n",
              "      padding: 0 0 0 0;\n",
              "      width: 32px;\n",
              "    }\n",
              "\n",
              "    .colab-df-convert:hover {\n",
              "      background-color: #E2EBFA;\n",
              "      box-shadow: 0px 1px 2px rgba(60, 64, 67, 0.3), 0px 1px 3px 1px rgba(60, 64, 67, 0.15);\n",
              "      fill: #174EA6;\n",
              "    }\n",
              "\n",
              "    [theme=dark] .colab-df-convert {\n",
              "      background-color: #3B4455;\n",
              "      fill: #D2E3FC;\n",
              "    }\n",
              "\n",
              "    [theme=dark] .colab-df-convert:hover {\n",
              "      background-color: #434B5C;\n",
              "      box-shadow: 0px 1px 3px 1px rgba(0, 0, 0, 0.15);\n",
              "      filter: drop-shadow(0px 1px 2px rgba(0, 0, 0, 0.3));\n",
              "      fill: #FFFFFF;\n",
              "    }\n",
              "  </style>\n",
              "\n",
              "      <script>\n",
              "        const buttonEl =\n",
              "          document.querySelector('#df-9f962513-662f-4ae7-81e1-7d65f76d91de button.colab-df-convert');\n",
              "        buttonEl.style.display =\n",
              "          google.colab.kernel.accessAllowed ? 'block' : 'none';\n",
              "\n",
              "        async function convertToInteractive(key) {\n",
              "          const element = document.querySelector('#df-9f962513-662f-4ae7-81e1-7d65f76d91de');\n",
              "          const dataTable =\n",
              "            await google.colab.kernel.invokeFunction('convertToInteractive',\n",
              "                                                     [key], {});\n",
              "          if (!dataTable) return;\n",
              "\n",
              "          const docLinkHtml = 'Like what you see? Visit the ' +\n",
              "            '<a target=\"_blank\" href=https://colab.research.google.com/notebooks/data_table.ipynb>data table notebook</a>'\n",
              "            + ' to learn more about interactive tables.';\n",
              "          element.innerHTML = '';\n",
              "          dataTable['output_type'] = 'display_data';\n",
              "          await google.colab.output.renderOutput(dataTable, element);\n",
              "          const docLink = document.createElement('div');\n",
              "          docLink.innerHTML = docLinkHtml;\n",
              "          element.appendChild(docLink);\n",
              "        }\n",
              "      </script>\n",
              "    </div>\n",
              "  </div>\n",
              "  "
            ]
          },
          "metadata": {},
          "execution_count": 2
        }
      ]
    },
    {
      "cell_type": "markdown",
      "source": [
        "## 1.  Display Top 10 Rows of The Dataset"
      ],
      "metadata": {
        "id": "BHppW4Pt_SYB"
      }
    },
    {
      "cell_type": "code",
      "source": [
        "df.head(10)"
      ],
      "metadata": {
        "colab": {
          "base_uri": "https://localhost:8080/",
          "height": 878
        },
        "id": "_bigapGh9lxJ",
        "outputId": "90500eeb-0e14-47f0-9e6b-aea4a7d142d1"
      },
      "execution_count": 3,
      "outputs": [
        {
          "output_type": "execute_result",
          "data": {
            "text/plain": [
              "   Id        EmployeeName                                        JobTitle  \\\n",
              "0   1      NATHANIEL FORD  GENERAL MANAGER-METROPOLITAN TRANSIT AUTHORITY   \n",
              "1   2        GARY JIMENEZ                 CAPTAIN III (POLICE DEPARTMENT)   \n",
              "2   3      ALBERT PARDINI                 CAPTAIN III (POLICE DEPARTMENT)   \n",
              "3   4   CHRISTOPHER CHONG            WIRE ROPE CABLE MAINTENANCE MECHANIC   \n",
              "4   5     PATRICK GARDNER    DEPUTY CHIEF OF DEPARTMENT,(FIRE DEPARTMENT)   \n",
              "5   6      DAVID SULLIVAN                       ASSISTANT DEPUTY CHIEF II   \n",
              "6   7           ALSON LEE              BATTALION CHIEF, (FIRE DEPARTMENT)   \n",
              "7   8       DAVID KUSHNER                  DEPUTY DIRECTOR OF INVESTMENTS   \n",
              "8   9      MICHAEL MORRIS              BATTALION CHIEF, (FIRE DEPARTMENT)   \n",
              "9  10  JOANNE HAYES-WHITE          CHIEF OF DEPARTMENT, (FIRE DEPARTMENT)   \n",
              "\n",
              "     BasePay  OvertimePay   OtherPay  Benefits   TotalPay  TotalPayBenefits  \\\n",
              "0  167411.18         0.00  400184.25       NaN  567595.43         567595.43   \n",
              "1  155966.02    245131.88  137811.38       NaN  538909.28         538909.28   \n",
              "2  212739.13    106088.18   16452.60       NaN  335279.91         335279.91   \n",
              "3   77916.00     56120.71  198306.90       NaN  332343.61         332343.61   \n",
              "4  134401.60      9737.00  182234.59       NaN  326373.19         326373.19   \n",
              "5  118602.00      8601.00  189082.74       NaN  316285.74         316285.74   \n",
              "6   92492.01     89062.90  134426.14       NaN  315981.05         315981.05   \n",
              "7  256576.96         0.00   51322.50       NaN  307899.46         307899.46   \n",
              "8  176932.64     86362.68   40132.23       NaN  303427.55         303427.55   \n",
              "9  285262.00         0.00   17115.73       NaN  302377.73         302377.73   \n",
              "\n",
              "   Year  Notes         Agency  Status  \n",
              "0  2011    NaN  San Francisco     NaN  \n",
              "1  2011    NaN  San Francisco     NaN  \n",
              "2  2011    NaN  San Francisco     NaN  \n",
              "3  2011    NaN  San Francisco     NaN  \n",
              "4  2011    NaN  San Francisco     NaN  \n",
              "5  2011    NaN  San Francisco     NaN  \n",
              "6  2011    NaN  San Francisco     NaN  \n",
              "7  2011    NaN  San Francisco     NaN  \n",
              "8  2011    NaN  San Francisco     NaN  \n",
              "9  2011    NaN  San Francisco     NaN  "
            ],
            "text/html": [
              "\n",
              "  <div id=\"df-73621064-5e45-4c58-9733-6db93bbda018\">\n",
              "    <div class=\"colab-df-container\">\n",
              "      <div>\n",
              "<style scoped>\n",
              "    .dataframe tbody tr th:only-of-type {\n",
              "        vertical-align: middle;\n",
              "    }\n",
              "\n",
              "    .dataframe tbody tr th {\n",
              "        vertical-align: top;\n",
              "    }\n",
              "\n",
              "    .dataframe thead th {\n",
              "        text-align: right;\n",
              "    }\n",
              "</style>\n",
              "<table border=\"1\" class=\"dataframe\">\n",
              "  <thead>\n",
              "    <tr style=\"text-align: right;\">\n",
              "      <th></th>\n",
              "      <th>Id</th>\n",
              "      <th>EmployeeName</th>\n",
              "      <th>JobTitle</th>\n",
              "      <th>BasePay</th>\n",
              "      <th>OvertimePay</th>\n",
              "      <th>OtherPay</th>\n",
              "      <th>Benefits</th>\n",
              "      <th>TotalPay</th>\n",
              "      <th>TotalPayBenefits</th>\n",
              "      <th>Year</th>\n",
              "      <th>Notes</th>\n",
              "      <th>Agency</th>\n",
              "      <th>Status</th>\n",
              "    </tr>\n",
              "  </thead>\n",
              "  <tbody>\n",
              "    <tr>\n",
              "      <th>0</th>\n",
              "      <td>1</td>\n",
              "      <td>NATHANIEL FORD</td>\n",
              "      <td>GENERAL MANAGER-METROPOLITAN TRANSIT AUTHORITY</td>\n",
              "      <td>167411.18</td>\n",
              "      <td>0.00</td>\n",
              "      <td>400184.25</td>\n",
              "      <td>NaN</td>\n",
              "      <td>567595.43</td>\n",
              "      <td>567595.43</td>\n",
              "      <td>2011</td>\n",
              "      <td>NaN</td>\n",
              "      <td>San Francisco</td>\n",
              "      <td>NaN</td>\n",
              "    </tr>\n",
              "    <tr>\n",
              "      <th>1</th>\n",
              "      <td>2</td>\n",
              "      <td>GARY JIMENEZ</td>\n",
              "      <td>CAPTAIN III (POLICE DEPARTMENT)</td>\n",
              "      <td>155966.02</td>\n",
              "      <td>245131.88</td>\n",
              "      <td>137811.38</td>\n",
              "      <td>NaN</td>\n",
              "      <td>538909.28</td>\n",
              "      <td>538909.28</td>\n",
              "      <td>2011</td>\n",
              "      <td>NaN</td>\n",
              "      <td>San Francisco</td>\n",
              "      <td>NaN</td>\n",
              "    </tr>\n",
              "    <tr>\n",
              "      <th>2</th>\n",
              "      <td>3</td>\n",
              "      <td>ALBERT PARDINI</td>\n",
              "      <td>CAPTAIN III (POLICE DEPARTMENT)</td>\n",
              "      <td>212739.13</td>\n",
              "      <td>106088.18</td>\n",
              "      <td>16452.60</td>\n",
              "      <td>NaN</td>\n",
              "      <td>335279.91</td>\n",
              "      <td>335279.91</td>\n",
              "      <td>2011</td>\n",
              "      <td>NaN</td>\n",
              "      <td>San Francisco</td>\n",
              "      <td>NaN</td>\n",
              "    </tr>\n",
              "    <tr>\n",
              "      <th>3</th>\n",
              "      <td>4</td>\n",
              "      <td>CHRISTOPHER CHONG</td>\n",
              "      <td>WIRE ROPE CABLE MAINTENANCE MECHANIC</td>\n",
              "      <td>77916.00</td>\n",
              "      <td>56120.71</td>\n",
              "      <td>198306.90</td>\n",
              "      <td>NaN</td>\n",
              "      <td>332343.61</td>\n",
              "      <td>332343.61</td>\n",
              "      <td>2011</td>\n",
              "      <td>NaN</td>\n",
              "      <td>San Francisco</td>\n",
              "      <td>NaN</td>\n",
              "    </tr>\n",
              "    <tr>\n",
              "      <th>4</th>\n",
              "      <td>5</td>\n",
              "      <td>PATRICK GARDNER</td>\n",
              "      <td>DEPUTY CHIEF OF DEPARTMENT,(FIRE DEPARTMENT)</td>\n",
              "      <td>134401.60</td>\n",
              "      <td>9737.00</td>\n",
              "      <td>182234.59</td>\n",
              "      <td>NaN</td>\n",
              "      <td>326373.19</td>\n",
              "      <td>326373.19</td>\n",
              "      <td>2011</td>\n",
              "      <td>NaN</td>\n",
              "      <td>San Francisco</td>\n",
              "      <td>NaN</td>\n",
              "    </tr>\n",
              "    <tr>\n",
              "      <th>5</th>\n",
              "      <td>6</td>\n",
              "      <td>DAVID SULLIVAN</td>\n",
              "      <td>ASSISTANT DEPUTY CHIEF II</td>\n",
              "      <td>118602.00</td>\n",
              "      <td>8601.00</td>\n",
              "      <td>189082.74</td>\n",
              "      <td>NaN</td>\n",
              "      <td>316285.74</td>\n",
              "      <td>316285.74</td>\n",
              "      <td>2011</td>\n",
              "      <td>NaN</td>\n",
              "      <td>San Francisco</td>\n",
              "      <td>NaN</td>\n",
              "    </tr>\n",
              "    <tr>\n",
              "      <th>6</th>\n",
              "      <td>7</td>\n",
              "      <td>ALSON LEE</td>\n",
              "      <td>BATTALION CHIEF, (FIRE DEPARTMENT)</td>\n",
              "      <td>92492.01</td>\n",
              "      <td>89062.90</td>\n",
              "      <td>134426.14</td>\n",
              "      <td>NaN</td>\n",
              "      <td>315981.05</td>\n",
              "      <td>315981.05</td>\n",
              "      <td>2011</td>\n",
              "      <td>NaN</td>\n",
              "      <td>San Francisco</td>\n",
              "      <td>NaN</td>\n",
              "    </tr>\n",
              "    <tr>\n",
              "      <th>7</th>\n",
              "      <td>8</td>\n",
              "      <td>DAVID KUSHNER</td>\n",
              "      <td>DEPUTY DIRECTOR OF INVESTMENTS</td>\n",
              "      <td>256576.96</td>\n",
              "      <td>0.00</td>\n",
              "      <td>51322.50</td>\n",
              "      <td>NaN</td>\n",
              "      <td>307899.46</td>\n",
              "      <td>307899.46</td>\n",
              "      <td>2011</td>\n",
              "      <td>NaN</td>\n",
              "      <td>San Francisco</td>\n",
              "      <td>NaN</td>\n",
              "    </tr>\n",
              "    <tr>\n",
              "      <th>8</th>\n",
              "      <td>9</td>\n",
              "      <td>MICHAEL MORRIS</td>\n",
              "      <td>BATTALION CHIEF, (FIRE DEPARTMENT)</td>\n",
              "      <td>176932.64</td>\n",
              "      <td>86362.68</td>\n",
              "      <td>40132.23</td>\n",
              "      <td>NaN</td>\n",
              "      <td>303427.55</td>\n",
              "      <td>303427.55</td>\n",
              "      <td>2011</td>\n",
              "      <td>NaN</td>\n",
              "      <td>San Francisco</td>\n",
              "      <td>NaN</td>\n",
              "    </tr>\n",
              "    <tr>\n",
              "      <th>9</th>\n",
              "      <td>10</td>\n",
              "      <td>JOANNE HAYES-WHITE</td>\n",
              "      <td>CHIEF OF DEPARTMENT, (FIRE DEPARTMENT)</td>\n",
              "      <td>285262.00</td>\n",
              "      <td>0.00</td>\n",
              "      <td>17115.73</td>\n",
              "      <td>NaN</td>\n",
              "      <td>302377.73</td>\n",
              "      <td>302377.73</td>\n",
              "      <td>2011</td>\n",
              "      <td>NaN</td>\n",
              "      <td>San Francisco</td>\n",
              "      <td>NaN</td>\n",
              "    </tr>\n",
              "  </tbody>\n",
              "</table>\n",
              "</div>\n",
              "      <button class=\"colab-df-convert\" onclick=\"convertToInteractive('df-73621064-5e45-4c58-9733-6db93bbda018')\"\n",
              "              title=\"Convert this dataframe to an interactive table.\"\n",
              "              style=\"display:none;\">\n",
              "        \n",
              "  <svg xmlns=\"http://www.w3.org/2000/svg\" height=\"24px\"viewBox=\"0 0 24 24\"\n",
              "       width=\"24px\">\n",
              "    <path d=\"M0 0h24v24H0V0z\" fill=\"none\"/>\n",
              "    <path d=\"M18.56 5.44l.94 2.06.94-2.06 2.06-.94-2.06-.94-.94-2.06-.94 2.06-2.06.94zm-11 1L8.5 8.5l.94-2.06 2.06-.94-2.06-.94L8.5 2.5l-.94 2.06-2.06.94zm10 10l.94 2.06.94-2.06 2.06-.94-2.06-.94-.94-2.06-.94 2.06-2.06.94z\"/><path d=\"M17.41 7.96l-1.37-1.37c-.4-.4-.92-.59-1.43-.59-.52 0-1.04.2-1.43.59L10.3 9.45l-7.72 7.72c-.78.78-.78 2.05 0 2.83L4 21.41c.39.39.9.59 1.41.59.51 0 1.02-.2 1.41-.59l7.78-7.78 2.81-2.81c.8-.78.8-2.07 0-2.86zM5.41 20L4 18.59l7.72-7.72 1.47 1.35L5.41 20z\"/>\n",
              "  </svg>\n",
              "      </button>\n",
              "      \n",
              "  <style>\n",
              "    .colab-df-container {\n",
              "      display:flex;\n",
              "      flex-wrap:wrap;\n",
              "      gap: 12px;\n",
              "    }\n",
              "\n",
              "    .colab-df-convert {\n",
              "      background-color: #E8F0FE;\n",
              "      border: none;\n",
              "      border-radius: 50%;\n",
              "      cursor: pointer;\n",
              "      display: none;\n",
              "      fill: #1967D2;\n",
              "      height: 32px;\n",
              "      padding: 0 0 0 0;\n",
              "      width: 32px;\n",
              "    }\n",
              "\n",
              "    .colab-df-convert:hover {\n",
              "      background-color: #E2EBFA;\n",
              "      box-shadow: 0px 1px 2px rgba(60, 64, 67, 0.3), 0px 1px 3px 1px rgba(60, 64, 67, 0.15);\n",
              "      fill: #174EA6;\n",
              "    }\n",
              "\n",
              "    [theme=dark] .colab-df-convert {\n",
              "      background-color: #3B4455;\n",
              "      fill: #D2E3FC;\n",
              "    }\n",
              "\n",
              "    [theme=dark] .colab-df-convert:hover {\n",
              "      background-color: #434B5C;\n",
              "      box-shadow: 0px 1px 3px 1px rgba(0, 0, 0, 0.15);\n",
              "      filter: drop-shadow(0px 1px 2px rgba(0, 0, 0, 0.3));\n",
              "      fill: #FFFFFF;\n",
              "    }\n",
              "  </style>\n",
              "\n",
              "      <script>\n",
              "        const buttonEl =\n",
              "          document.querySelector('#df-73621064-5e45-4c58-9733-6db93bbda018 button.colab-df-convert');\n",
              "        buttonEl.style.display =\n",
              "          google.colab.kernel.accessAllowed ? 'block' : 'none';\n",
              "\n",
              "        async function convertToInteractive(key) {\n",
              "          const element = document.querySelector('#df-73621064-5e45-4c58-9733-6db93bbda018');\n",
              "          const dataTable =\n",
              "            await google.colab.kernel.invokeFunction('convertToInteractive',\n",
              "                                                     [key], {});\n",
              "          if (!dataTable) return;\n",
              "\n",
              "          const docLinkHtml = 'Like what you see? Visit the ' +\n",
              "            '<a target=\"_blank\" href=https://colab.research.google.com/notebooks/data_table.ipynb>data table notebook</a>'\n",
              "            + ' to learn more about interactive tables.';\n",
              "          element.innerHTML = '';\n",
              "          dataTable['output_type'] = 'display_data';\n",
              "          await google.colab.output.renderOutput(dataTable, element);\n",
              "          const docLink = document.createElement('div');\n",
              "          docLink.innerHTML = docLinkHtml;\n",
              "          element.appendChild(docLink);\n",
              "        }\n",
              "      </script>\n",
              "    </div>\n",
              "  </div>\n",
              "  "
            ]
          },
          "metadata": {},
          "execution_count": 3
        }
      ]
    },
    {
      "cell_type": "markdown",
      "source": [
        "## 2. Check Last 10 Rows of The Dataset"
      ],
      "metadata": {
        "id": "j2pgx5Bs_aoj"
      }
    },
    {
      "cell_type": "code",
      "source": [
        "df.tail(10)"
      ],
      "metadata": {
        "colab": {
          "base_uri": "https://localhost:8080/",
          "height": 600
        },
        "id": "WQaZXSmy9lzw",
        "outputId": "ceb2c49e-f0cd-4f05-a3fd-2a6327e747af"
      },
      "execution_count": 4,
      "outputs": [
        {
          "output_type": "execute_result",
          "data": {
            "text/plain": [
              "            Id         EmployeeName                        JobTitle  BasePay  \\\n",
              "107121  107122    Gretel  Chuquipul   Victim/Witness Investigator 1  5124.00   \n",
              "107122  107123        Lisa W Phelan                  Pool Lifeguard  7294.74   \n",
              "107123  107124  Carol L McRae-Jones         PS Aide Health Services  7392.78   \n",
              "107124  107125         Lance A Wong                 PS Aide to Prof  7389.17   \n",
              "107125  107126       Stephen  Glatt  Marriage, Family & Child Cnslr  7255.01   \n",
              "107126  107127       Murlvin L Lest    Public Svc Aide-Public Works  7234.05   \n",
              "107127  107128         Erin R Tolva                   Special Nurse  4326.00   \n",
              "107128  107129       Zhuo Jun  Chen    Public Svc Aide-Public Works  7379.10   \n",
              "107129  107130     Billy R Courtney    Public Svc Aide-Public Works  7324.97   \n",
              "107130  107131          Steven  Tan     Communications Systems Tech  7378.00   \n",
              "\n",
              "        OvertimePay  OtherPay  Benefits  TotalPay  TotalPayBenefits  Year  \\\n",
              "107121         0.00      0.00   2346.83   5124.00           7470.83  2013   \n",
              "107122         0.00    100.03     73.97   7394.77           7468.74  2013   \n",
              "107123         0.00      0.00     73.93   7392.78           7466.71  2013   \n",
              "107124         0.00      0.00     73.88   7389.17           7463.05  2013   \n",
              "107125         0.00    200.33      0.00   7455.34           7455.34  2013   \n",
              "107126         0.00    205.59     14.35   7439.64           7453.99  2013   \n",
              "107127      1486.54    370.73   1270.30   6183.27           7453.57  2013   \n",
              "107128         0.00      0.00     73.79   7379.10           7452.89  2013   \n",
              "107129         0.00     53.46     73.80   7378.43           7452.23  2013   \n",
              "107130         0.00      0.00     73.78   7378.00           7451.78  2013   \n",
              "\n",
              "        Notes         Agency  Status  \n",
              "107121    NaN  San Francisco     NaN  \n",
              "107122    NaN  San Francisco     NaN  \n",
              "107123    NaN  San Francisco     NaN  \n",
              "107124    NaN  San Francisco     NaN  \n",
              "107125    NaN  San Francisco     NaN  \n",
              "107126    NaN  San Francisco     NaN  \n",
              "107127    NaN  San Francisco     NaN  \n",
              "107128    NaN  San Francisco     NaN  \n",
              "107129    NaN  San Francisco     NaN  \n",
              "107130    NaN      San Franc     NaN  "
            ],
            "text/html": [
              "\n",
              "  <div id=\"df-89aa10c1-d26c-491c-bcdf-a8608aaf4689\">\n",
              "    <div class=\"colab-df-container\">\n",
              "      <div>\n",
              "<style scoped>\n",
              "    .dataframe tbody tr th:only-of-type {\n",
              "        vertical-align: middle;\n",
              "    }\n",
              "\n",
              "    .dataframe tbody tr th {\n",
              "        vertical-align: top;\n",
              "    }\n",
              "\n",
              "    .dataframe thead th {\n",
              "        text-align: right;\n",
              "    }\n",
              "</style>\n",
              "<table border=\"1\" class=\"dataframe\">\n",
              "  <thead>\n",
              "    <tr style=\"text-align: right;\">\n",
              "      <th></th>\n",
              "      <th>Id</th>\n",
              "      <th>EmployeeName</th>\n",
              "      <th>JobTitle</th>\n",
              "      <th>BasePay</th>\n",
              "      <th>OvertimePay</th>\n",
              "      <th>OtherPay</th>\n",
              "      <th>Benefits</th>\n",
              "      <th>TotalPay</th>\n",
              "      <th>TotalPayBenefits</th>\n",
              "      <th>Year</th>\n",
              "      <th>Notes</th>\n",
              "      <th>Agency</th>\n",
              "      <th>Status</th>\n",
              "    </tr>\n",
              "  </thead>\n",
              "  <tbody>\n",
              "    <tr>\n",
              "      <th>107121</th>\n",
              "      <td>107122</td>\n",
              "      <td>Gretel  Chuquipul</td>\n",
              "      <td>Victim/Witness Investigator 1</td>\n",
              "      <td>5124.00</td>\n",
              "      <td>0.00</td>\n",
              "      <td>0.00</td>\n",
              "      <td>2346.83</td>\n",
              "      <td>5124.00</td>\n",
              "      <td>7470.83</td>\n",
              "      <td>2013</td>\n",
              "      <td>NaN</td>\n",
              "      <td>San Francisco</td>\n",
              "      <td>NaN</td>\n",
              "    </tr>\n",
              "    <tr>\n",
              "      <th>107122</th>\n",
              "      <td>107123</td>\n",
              "      <td>Lisa W Phelan</td>\n",
              "      <td>Pool Lifeguard</td>\n",
              "      <td>7294.74</td>\n",
              "      <td>0.00</td>\n",
              "      <td>100.03</td>\n",
              "      <td>73.97</td>\n",
              "      <td>7394.77</td>\n",
              "      <td>7468.74</td>\n",
              "      <td>2013</td>\n",
              "      <td>NaN</td>\n",
              "      <td>San Francisco</td>\n",
              "      <td>NaN</td>\n",
              "    </tr>\n",
              "    <tr>\n",
              "      <th>107123</th>\n",
              "      <td>107124</td>\n",
              "      <td>Carol L McRae-Jones</td>\n",
              "      <td>PS Aide Health Services</td>\n",
              "      <td>7392.78</td>\n",
              "      <td>0.00</td>\n",
              "      <td>0.00</td>\n",
              "      <td>73.93</td>\n",
              "      <td>7392.78</td>\n",
              "      <td>7466.71</td>\n",
              "      <td>2013</td>\n",
              "      <td>NaN</td>\n",
              "      <td>San Francisco</td>\n",
              "      <td>NaN</td>\n",
              "    </tr>\n",
              "    <tr>\n",
              "      <th>107124</th>\n",
              "      <td>107125</td>\n",
              "      <td>Lance A Wong</td>\n",
              "      <td>PS Aide to Prof</td>\n",
              "      <td>7389.17</td>\n",
              "      <td>0.00</td>\n",
              "      <td>0.00</td>\n",
              "      <td>73.88</td>\n",
              "      <td>7389.17</td>\n",
              "      <td>7463.05</td>\n",
              "      <td>2013</td>\n",
              "      <td>NaN</td>\n",
              "      <td>San Francisco</td>\n",
              "      <td>NaN</td>\n",
              "    </tr>\n",
              "    <tr>\n",
              "      <th>107125</th>\n",
              "      <td>107126</td>\n",
              "      <td>Stephen  Glatt</td>\n",
              "      <td>Marriage, Family &amp; Child Cnslr</td>\n",
              "      <td>7255.01</td>\n",
              "      <td>0.00</td>\n",
              "      <td>200.33</td>\n",
              "      <td>0.00</td>\n",
              "      <td>7455.34</td>\n",
              "      <td>7455.34</td>\n",
              "      <td>2013</td>\n",
              "      <td>NaN</td>\n",
              "      <td>San Francisco</td>\n",
              "      <td>NaN</td>\n",
              "    </tr>\n",
              "    <tr>\n",
              "      <th>107126</th>\n",
              "      <td>107127</td>\n",
              "      <td>Murlvin L Lest</td>\n",
              "      <td>Public Svc Aide-Public Works</td>\n",
              "      <td>7234.05</td>\n",
              "      <td>0.00</td>\n",
              "      <td>205.59</td>\n",
              "      <td>14.35</td>\n",
              "      <td>7439.64</td>\n",
              "      <td>7453.99</td>\n",
              "      <td>2013</td>\n",
              "      <td>NaN</td>\n",
              "      <td>San Francisco</td>\n",
              "      <td>NaN</td>\n",
              "    </tr>\n",
              "    <tr>\n",
              "      <th>107127</th>\n",
              "      <td>107128</td>\n",
              "      <td>Erin R Tolva</td>\n",
              "      <td>Special Nurse</td>\n",
              "      <td>4326.00</td>\n",
              "      <td>1486.54</td>\n",
              "      <td>370.73</td>\n",
              "      <td>1270.30</td>\n",
              "      <td>6183.27</td>\n",
              "      <td>7453.57</td>\n",
              "      <td>2013</td>\n",
              "      <td>NaN</td>\n",
              "      <td>San Francisco</td>\n",
              "      <td>NaN</td>\n",
              "    </tr>\n",
              "    <tr>\n",
              "      <th>107128</th>\n",
              "      <td>107129</td>\n",
              "      <td>Zhuo Jun  Chen</td>\n",
              "      <td>Public Svc Aide-Public Works</td>\n",
              "      <td>7379.10</td>\n",
              "      <td>0.00</td>\n",
              "      <td>0.00</td>\n",
              "      <td>73.79</td>\n",
              "      <td>7379.10</td>\n",
              "      <td>7452.89</td>\n",
              "      <td>2013</td>\n",
              "      <td>NaN</td>\n",
              "      <td>San Francisco</td>\n",
              "      <td>NaN</td>\n",
              "    </tr>\n",
              "    <tr>\n",
              "      <th>107129</th>\n",
              "      <td>107130</td>\n",
              "      <td>Billy R Courtney</td>\n",
              "      <td>Public Svc Aide-Public Works</td>\n",
              "      <td>7324.97</td>\n",
              "      <td>0.00</td>\n",
              "      <td>53.46</td>\n",
              "      <td>73.80</td>\n",
              "      <td>7378.43</td>\n",
              "      <td>7452.23</td>\n",
              "      <td>2013</td>\n",
              "      <td>NaN</td>\n",
              "      <td>San Francisco</td>\n",
              "      <td>NaN</td>\n",
              "    </tr>\n",
              "    <tr>\n",
              "      <th>107130</th>\n",
              "      <td>107131</td>\n",
              "      <td>Steven  Tan</td>\n",
              "      <td>Communications Systems Tech</td>\n",
              "      <td>7378.00</td>\n",
              "      <td>0.00</td>\n",
              "      <td>0.00</td>\n",
              "      <td>73.78</td>\n",
              "      <td>7378.00</td>\n",
              "      <td>7451.78</td>\n",
              "      <td>2013</td>\n",
              "      <td>NaN</td>\n",
              "      <td>San Franc</td>\n",
              "      <td>NaN</td>\n",
              "    </tr>\n",
              "  </tbody>\n",
              "</table>\n",
              "</div>\n",
              "      <button class=\"colab-df-convert\" onclick=\"convertToInteractive('df-89aa10c1-d26c-491c-bcdf-a8608aaf4689')\"\n",
              "              title=\"Convert this dataframe to an interactive table.\"\n",
              "              style=\"display:none;\">\n",
              "        \n",
              "  <svg xmlns=\"http://www.w3.org/2000/svg\" height=\"24px\"viewBox=\"0 0 24 24\"\n",
              "       width=\"24px\">\n",
              "    <path d=\"M0 0h24v24H0V0z\" fill=\"none\"/>\n",
              "    <path d=\"M18.56 5.44l.94 2.06.94-2.06 2.06-.94-2.06-.94-.94-2.06-.94 2.06-2.06.94zm-11 1L8.5 8.5l.94-2.06 2.06-.94-2.06-.94L8.5 2.5l-.94 2.06-2.06.94zm10 10l.94 2.06.94-2.06 2.06-.94-2.06-.94-.94-2.06-.94 2.06-2.06.94z\"/><path d=\"M17.41 7.96l-1.37-1.37c-.4-.4-.92-.59-1.43-.59-.52 0-1.04.2-1.43.59L10.3 9.45l-7.72 7.72c-.78.78-.78 2.05 0 2.83L4 21.41c.39.39.9.59 1.41.59.51 0 1.02-.2 1.41-.59l7.78-7.78 2.81-2.81c.8-.78.8-2.07 0-2.86zM5.41 20L4 18.59l7.72-7.72 1.47 1.35L5.41 20z\"/>\n",
              "  </svg>\n",
              "      </button>\n",
              "      \n",
              "  <style>\n",
              "    .colab-df-container {\n",
              "      display:flex;\n",
              "      flex-wrap:wrap;\n",
              "      gap: 12px;\n",
              "    }\n",
              "\n",
              "    .colab-df-convert {\n",
              "      background-color: #E8F0FE;\n",
              "      border: none;\n",
              "      border-radius: 50%;\n",
              "      cursor: pointer;\n",
              "      display: none;\n",
              "      fill: #1967D2;\n",
              "      height: 32px;\n",
              "      padding: 0 0 0 0;\n",
              "      width: 32px;\n",
              "    }\n",
              "\n",
              "    .colab-df-convert:hover {\n",
              "      background-color: #E2EBFA;\n",
              "      box-shadow: 0px 1px 2px rgba(60, 64, 67, 0.3), 0px 1px 3px 1px rgba(60, 64, 67, 0.15);\n",
              "      fill: #174EA6;\n",
              "    }\n",
              "\n",
              "    [theme=dark] .colab-df-convert {\n",
              "      background-color: #3B4455;\n",
              "      fill: #D2E3FC;\n",
              "    }\n",
              "\n",
              "    [theme=dark] .colab-df-convert:hover {\n",
              "      background-color: #434B5C;\n",
              "      box-shadow: 0px 1px 3px 1px rgba(0, 0, 0, 0.15);\n",
              "      filter: drop-shadow(0px 1px 2px rgba(0, 0, 0, 0.3));\n",
              "      fill: #FFFFFF;\n",
              "    }\n",
              "  </style>\n",
              "\n",
              "      <script>\n",
              "        const buttonEl =\n",
              "          document.querySelector('#df-89aa10c1-d26c-491c-bcdf-a8608aaf4689 button.colab-df-convert');\n",
              "        buttonEl.style.display =\n",
              "          google.colab.kernel.accessAllowed ? 'block' : 'none';\n",
              "\n",
              "        async function convertToInteractive(key) {\n",
              "          const element = document.querySelector('#df-89aa10c1-d26c-491c-bcdf-a8608aaf4689');\n",
              "          const dataTable =\n",
              "            await google.colab.kernel.invokeFunction('convertToInteractive',\n",
              "                                                     [key], {});\n",
              "          if (!dataTable) return;\n",
              "\n",
              "          const docLinkHtml = 'Like what you see? Visit the ' +\n",
              "            '<a target=\"_blank\" href=https://colab.research.google.com/notebooks/data_table.ipynb>data table notebook</a>'\n",
              "            + ' to learn more about interactive tables.';\n",
              "          element.innerHTML = '';\n",
              "          dataTable['output_type'] = 'display_data';\n",
              "          await google.colab.output.renderOutput(dataTable, element);\n",
              "          const docLink = document.createElement('div');\n",
              "          docLink.innerHTML = docLinkHtml;\n",
              "          element.appendChild(docLink);\n",
              "        }\n",
              "      </script>\n",
              "    </div>\n",
              "  </div>\n",
              "  "
            ]
          },
          "metadata": {},
          "execution_count": 4
        }
      ]
    },
    {
      "cell_type": "markdown",
      "source": [
        "## 3. Find Shape of Our Dataset (Number of Rows And Number of Columns)"
      ],
      "metadata": {
        "id": "TO_mJ8d6_jXh"
      }
    },
    {
      "cell_type": "code",
      "source": [
        "print('Number of Rows:',df.shape[0])\n",
        "print('Number of columns:',df.shape[1])"
      ],
      "metadata": {
        "colab": {
          "base_uri": "https://localhost:8080/"
        },
        "id": "jSWMK5it9l2M",
        "outputId": "5864d602-d1df-40f6-fe0d-6623d349af9b"
      },
      "execution_count": 5,
      "outputs": [
        {
          "output_type": "stream",
          "name": "stdout",
          "text": [
            "Number of Rows: 107131\n",
            "Number of columns: 13\n"
          ]
        }
      ]
    },
    {
      "cell_type": "markdown",
      "source": [
        "## 4.  Getting Information About Our Dataset Like Total Number Rows, Total Number of Columns, Datatypes of Each Column And Memory Requirement"
      ],
      "metadata": {
        "id": "8mDCt9hxAHRQ"
      }
    },
    {
      "cell_type": "code",
      "source": [
        "df.info()"
      ],
      "metadata": {
        "colab": {
          "base_uri": "https://localhost:8080/"
        },
        "id": "E3pZXQA19l4l",
        "outputId": "73e72b67-14c9-4dfd-d315-aba9ebdfa35b"
      },
      "execution_count": 6,
      "outputs": [
        {
          "output_type": "stream",
          "name": "stdout",
          "text": [
            "<class 'pandas.core.frame.DataFrame'>\n",
            "RangeIndex: 107131 entries, 0 to 107130\n",
            "Data columns (total 13 columns):\n",
            " #   Column            Non-Null Count   Dtype  \n",
            "---  ------            --------------   -----  \n",
            " 0   Id                107131 non-null  int64  \n",
            " 1   EmployeeName      107131 non-null  object \n",
            " 2   JobTitle          107131 non-null  object \n",
            " 3   BasePay           106686 non-null  float64\n",
            " 4   OvertimePay       107131 non-null  float64\n",
            " 5   OtherPay          107131 non-null  float64\n",
            " 6   Benefits          70972 non-null   float64\n",
            " 7   TotalPay          107131 non-null  float64\n",
            " 8   TotalPayBenefits  107131 non-null  float64\n",
            " 9   Year              107131 non-null  int64  \n",
            " 10  Notes             0 non-null       float64\n",
            " 11  Agency            107131 non-null  object \n",
            " 12  Status            0 non-null       float64\n",
            "dtypes: float64(8), int64(2), object(3)\n",
            "memory usage: 10.6+ MB\n"
          ]
        }
      ]
    },
    {
      "cell_type": "code",
      "source": [
        "df.columns"
      ],
      "metadata": {
        "colab": {
          "base_uri": "https://localhost:8080/"
        },
        "id": "dWJ1EF6U-oDP",
        "outputId": "db6fde02-f87e-423c-9919-a138feeca370"
      },
      "execution_count": 7,
      "outputs": [
        {
          "output_type": "execute_result",
          "data": {
            "text/plain": [
              "Index(['Id', 'EmployeeName', 'JobTitle', 'BasePay', 'OvertimePay', 'OtherPay',\n",
              "       'Benefits', 'TotalPay', 'TotalPayBenefits', 'Year', 'Notes', 'Agency',\n",
              "       'Status'],\n",
              "      dtype='object')"
            ]
          },
          "metadata": {},
          "execution_count": 7
        }
      ]
    },
    {
      "cell_type": "markdown",
      "source": [
        "## 5. Check Null Values In The Dataset"
      ],
      "metadata": {
        "id": "QGFBHk2dAVy5"
      }
    },
    {
      "cell_type": "code",
      "source": [
        "df.isna().sum()"
      ],
      "metadata": {
        "colab": {
          "base_uri": "https://localhost:8080/"
        },
        "id": "OdZJKYLP9l7N",
        "outputId": "11a76f07-32bd-416c-dd23-04f49c370aa5"
      },
      "execution_count": 8,
      "outputs": [
        {
          "output_type": "execute_result",
          "data": {
            "text/plain": [
              "Id                       0\n",
              "EmployeeName             0\n",
              "JobTitle                 0\n",
              "BasePay                445\n",
              "OvertimePay              0\n",
              "OtherPay                 0\n",
              "Benefits             36159\n",
              "TotalPay                 0\n",
              "TotalPayBenefits         0\n",
              "Year                     0\n",
              "Notes               107131\n",
              "Agency                   0\n",
              "Status              107131\n",
              "dtype: int64"
            ]
          },
          "metadata": {},
          "execution_count": 8
        }
      ]
    },
    {
      "cell_type": "markdown",
      "source": [
        "## 6. Drop ID, Notes, Agency, and Status Columns"
      ],
      "metadata": {
        "id": "2ArQz-XKEwMz"
      }
    },
    {
      "cell_type": "code",
      "source": [
        "df.drop(['Id','Agency','Status'],axis=1,inplace=True)"
      ],
      "metadata": {
        "id": "qcbHxxrR9l9c"
      },
      "execution_count": 9,
      "outputs": []
    },
    {
      "cell_type": "markdown",
      "source": [
        "## 7. Get Overall Statistics About The Dataframe"
      ],
      "metadata": {
        "id": "2n7OSZSGFV99"
      }
    },
    {
      "cell_type": "code",
      "source": [
        "df.describe(include='all')"
      ],
      "metadata": {
        "colab": {
          "base_uri": "https://localhost:8080/",
          "height": 476
        },
        "id": "_da4zZmA9l_6",
        "outputId": "fee9a9ef-b9c2-4597-a38b-533d626189fa"
      },
      "execution_count": 10,
      "outputs": [
        {
          "output_type": "execute_result",
          "data": {
            "text/plain": [
              "       EmployeeName          JobTitle        BasePay    OvertimePay  \\\n",
              "count        107131            107131  106686.000000  107131.000000   \n",
              "unique       101501              2123            NaN            NaN   \n",
              "top       KEVIN LEE  Transit Operator            NaN            NaN   \n",
              "freq              9              4489            NaN            NaN   \n",
              "mean            NaN               NaN   68165.605881    5106.471602   \n",
              "std             NaN               NaN   41457.993100   11485.396919   \n",
              "min             NaN               NaN    -166.010000      -0.010000   \n",
              "25%             NaN               NaN   40190.780000       0.000000   \n",
              "50%             NaN               NaN   65962.000000       0.000000   \n",
              "75%             NaN               NaN   95229.040000    4807.700000   \n",
              "max             NaN               NaN  319275.010000  245131.880000   \n",
              "\n",
              "             OtherPay      Benefits       TotalPay  TotalPayBenefits  \\\n",
              "count   107131.000000  70972.000000  107131.000000      107131.00000   \n",
              "unique            NaN           NaN            NaN               NaN   \n",
              "top               NaN           NaN            NaN               NaN   \n",
              "freq              NaN           NaN            NaN               NaN   \n",
              "mean      3810.361615  26315.472057   76799.293280       94232.73162   \n",
              "std       8256.400081  14568.494336   49214.066428       60282.69431   \n",
              "min      -7058.590000      0.000000       0.000000           0.00000   \n",
              "25%          0.000000  16970.375000   43324.695000       50307.27000   \n",
              "50%        932.840000  29380.695000   72645.530000       91793.77000   \n",
              "75%       4476.160000  35949.692500  106690.935000      131158.31000   \n",
              "max     400184.250000  86533.210000  567595.430000      567595.43000   \n",
              "\n",
              "                 Year  Notes  \n",
              "count   107131.000000    0.0  \n",
              "unique            NaN    NaN  \n",
              "top               NaN    NaN  \n",
              "freq              NaN    NaN  \n",
              "mean      2011.981770    NaN  \n",
              "std          0.810239    NaN  \n",
              "min       2011.000000    NaN  \n",
              "25%       2011.000000    NaN  \n",
              "50%       2012.000000    NaN  \n",
              "75%       2013.000000    NaN  \n",
              "max       2013.000000    NaN  "
            ],
            "text/html": [
              "\n",
              "  <div id=\"df-ec9946a6-5c05-499f-894d-60af09ef1b7b\">\n",
              "    <div class=\"colab-df-container\">\n",
              "      <div>\n",
              "<style scoped>\n",
              "    .dataframe tbody tr th:only-of-type {\n",
              "        vertical-align: middle;\n",
              "    }\n",
              "\n",
              "    .dataframe tbody tr th {\n",
              "        vertical-align: top;\n",
              "    }\n",
              "\n",
              "    .dataframe thead th {\n",
              "        text-align: right;\n",
              "    }\n",
              "</style>\n",
              "<table border=\"1\" class=\"dataframe\">\n",
              "  <thead>\n",
              "    <tr style=\"text-align: right;\">\n",
              "      <th></th>\n",
              "      <th>EmployeeName</th>\n",
              "      <th>JobTitle</th>\n",
              "      <th>BasePay</th>\n",
              "      <th>OvertimePay</th>\n",
              "      <th>OtherPay</th>\n",
              "      <th>Benefits</th>\n",
              "      <th>TotalPay</th>\n",
              "      <th>TotalPayBenefits</th>\n",
              "      <th>Year</th>\n",
              "      <th>Notes</th>\n",
              "    </tr>\n",
              "  </thead>\n",
              "  <tbody>\n",
              "    <tr>\n",
              "      <th>count</th>\n",
              "      <td>107131</td>\n",
              "      <td>107131</td>\n",
              "      <td>106686.000000</td>\n",
              "      <td>107131.000000</td>\n",
              "      <td>107131.000000</td>\n",
              "      <td>70972.000000</td>\n",
              "      <td>107131.000000</td>\n",
              "      <td>107131.00000</td>\n",
              "      <td>107131.000000</td>\n",
              "      <td>0.0</td>\n",
              "    </tr>\n",
              "    <tr>\n",
              "      <th>unique</th>\n",
              "      <td>101501</td>\n",
              "      <td>2123</td>\n",
              "      <td>NaN</td>\n",
              "      <td>NaN</td>\n",
              "      <td>NaN</td>\n",
              "      <td>NaN</td>\n",
              "      <td>NaN</td>\n",
              "      <td>NaN</td>\n",
              "      <td>NaN</td>\n",
              "      <td>NaN</td>\n",
              "    </tr>\n",
              "    <tr>\n",
              "      <th>top</th>\n",
              "      <td>KEVIN LEE</td>\n",
              "      <td>Transit Operator</td>\n",
              "      <td>NaN</td>\n",
              "      <td>NaN</td>\n",
              "      <td>NaN</td>\n",
              "      <td>NaN</td>\n",
              "      <td>NaN</td>\n",
              "      <td>NaN</td>\n",
              "      <td>NaN</td>\n",
              "      <td>NaN</td>\n",
              "    </tr>\n",
              "    <tr>\n",
              "      <th>freq</th>\n",
              "      <td>9</td>\n",
              "      <td>4489</td>\n",
              "      <td>NaN</td>\n",
              "      <td>NaN</td>\n",
              "      <td>NaN</td>\n",
              "      <td>NaN</td>\n",
              "      <td>NaN</td>\n",
              "      <td>NaN</td>\n",
              "      <td>NaN</td>\n",
              "      <td>NaN</td>\n",
              "    </tr>\n",
              "    <tr>\n",
              "      <th>mean</th>\n",
              "      <td>NaN</td>\n",
              "      <td>NaN</td>\n",
              "      <td>68165.605881</td>\n",
              "      <td>5106.471602</td>\n",
              "      <td>3810.361615</td>\n",
              "      <td>26315.472057</td>\n",
              "      <td>76799.293280</td>\n",
              "      <td>94232.73162</td>\n",
              "      <td>2011.981770</td>\n",
              "      <td>NaN</td>\n",
              "    </tr>\n",
              "    <tr>\n",
              "      <th>std</th>\n",
              "      <td>NaN</td>\n",
              "      <td>NaN</td>\n",
              "      <td>41457.993100</td>\n",
              "      <td>11485.396919</td>\n",
              "      <td>8256.400081</td>\n",
              "      <td>14568.494336</td>\n",
              "      <td>49214.066428</td>\n",
              "      <td>60282.69431</td>\n",
              "      <td>0.810239</td>\n",
              "      <td>NaN</td>\n",
              "    </tr>\n",
              "    <tr>\n",
              "      <th>min</th>\n",
              "      <td>NaN</td>\n",
              "      <td>NaN</td>\n",
              "      <td>-166.010000</td>\n",
              "      <td>-0.010000</td>\n",
              "      <td>-7058.590000</td>\n",
              "      <td>0.000000</td>\n",
              "      <td>0.000000</td>\n",
              "      <td>0.00000</td>\n",
              "      <td>2011.000000</td>\n",
              "      <td>NaN</td>\n",
              "    </tr>\n",
              "    <tr>\n",
              "      <th>25%</th>\n",
              "      <td>NaN</td>\n",
              "      <td>NaN</td>\n",
              "      <td>40190.780000</td>\n",
              "      <td>0.000000</td>\n",
              "      <td>0.000000</td>\n",
              "      <td>16970.375000</td>\n",
              "      <td>43324.695000</td>\n",
              "      <td>50307.27000</td>\n",
              "      <td>2011.000000</td>\n",
              "      <td>NaN</td>\n",
              "    </tr>\n",
              "    <tr>\n",
              "      <th>50%</th>\n",
              "      <td>NaN</td>\n",
              "      <td>NaN</td>\n",
              "      <td>65962.000000</td>\n",
              "      <td>0.000000</td>\n",
              "      <td>932.840000</td>\n",
              "      <td>29380.695000</td>\n",
              "      <td>72645.530000</td>\n",
              "      <td>91793.77000</td>\n",
              "      <td>2012.000000</td>\n",
              "      <td>NaN</td>\n",
              "    </tr>\n",
              "    <tr>\n",
              "      <th>75%</th>\n",
              "      <td>NaN</td>\n",
              "      <td>NaN</td>\n",
              "      <td>95229.040000</td>\n",
              "      <td>4807.700000</td>\n",
              "      <td>4476.160000</td>\n",
              "      <td>35949.692500</td>\n",
              "      <td>106690.935000</td>\n",
              "      <td>131158.31000</td>\n",
              "      <td>2013.000000</td>\n",
              "      <td>NaN</td>\n",
              "    </tr>\n",
              "    <tr>\n",
              "      <th>max</th>\n",
              "      <td>NaN</td>\n",
              "      <td>NaN</td>\n",
              "      <td>319275.010000</td>\n",
              "      <td>245131.880000</td>\n",
              "      <td>400184.250000</td>\n",
              "      <td>86533.210000</td>\n",
              "      <td>567595.430000</td>\n",
              "      <td>567595.43000</td>\n",
              "      <td>2013.000000</td>\n",
              "      <td>NaN</td>\n",
              "    </tr>\n",
              "  </tbody>\n",
              "</table>\n",
              "</div>\n",
              "      <button class=\"colab-df-convert\" onclick=\"convertToInteractive('df-ec9946a6-5c05-499f-894d-60af09ef1b7b')\"\n",
              "              title=\"Convert this dataframe to an interactive table.\"\n",
              "              style=\"display:none;\">\n",
              "        \n",
              "  <svg xmlns=\"http://www.w3.org/2000/svg\" height=\"24px\"viewBox=\"0 0 24 24\"\n",
              "       width=\"24px\">\n",
              "    <path d=\"M0 0h24v24H0V0z\" fill=\"none\"/>\n",
              "    <path d=\"M18.56 5.44l.94 2.06.94-2.06 2.06-.94-2.06-.94-.94-2.06-.94 2.06-2.06.94zm-11 1L8.5 8.5l.94-2.06 2.06-.94-2.06-.94L8.5 2.5l-.94 2.06-2.06.94zm10 10l.94 2.06.94-2.06 2.06-.94-2.06-.94-.94-2.06-.94 2.06-2.06.94z\"/><path d=\"M17.41 7.96l-1.37-1.37c-.4-.4-.92-.59-1.43-.59-.52 0-1.04.2-1.43.59L10.3 9.45l-7.72 7.72c-.78.78-.78 2.05 0 2.83L4 21.41c.39.39.9.59 1.41.59.51 0 1.02-.2 1.41-.59l7.78-7.78 2.81-2.81c.8-.78.8-2.07 0-2.86zM5.41 20L4 18.59l7.72-7.72 1.47 1.35L5.41 20z\"/>\n",
              "  </svg>\n",
              "      </button>\n",
              "      \n",
              "  <style>\n",
              "    .colab-df-container {\n",
              "      display:flex;\n",
              "      flex-wrap:wrap;\n",
              "      gap: 12px;\n",
              "    }\n",
              "\n",
              "    .colab-df-convert {\n",
              "      background-color: #E8F0FE;\n",
              "      border: none;\n",
              "      border-radius: 50%;\n",
              "      cursor: pointer;\n",
              "      display: none;\n",
              "      fill: #1967D2;\n",
              "      height: 32px;\n",
              "      padding: 0 0 0 0;\n",
              "      width: 32px;\n",
              "    }\n",
              "\n",
              "    .colab-df-convert:hover {\n",
              "      background-color: #E2EBFA;\n",
              "      box-shadow: 0px 1px 2px rgba(60, 64, 67, 0.3), 0px 1px 3px 1px rgba(60, 64, 67, 0.15);\n",
              "      fill: #174EA6;\n",
              "    }\n",
              "\n",
              "    [theme=dark] .colab-df-convert {\n",
              "      background-color: #3B4455;\n",
              "      fill: #D2E3FC;\n",
              "    }\n",
              "\n",
              "    [theme=dark] .colab-df-convert:hover {\n",
              "      background-color: #434B5C;\n",
              "      box-shadow: 0px 1px 3px 1px rgba(0, 0, 0, 0.15);\n",
              "      filter: drop-shadow(0px 1px 2px rgba(0, 0, 0, 0.3));\n",
              "      fill: #FFFFFF;\n",
              "    }\n",
              "  </style>\n",
              "\n",
              "      <script>\n",
              "        const buttonEl =\n",
              "          document.querySelector('#df-ec9946a6-5c05-499f-894d-60af09ef1b7b button.colab-df-convert');\n",
              "        buttonEl.style.display =\n",
              "          google.colab.kernel.accessAllowed ? 'block' : 'none';\n",
              "\n",
              "        async function convertToInteractive(key) {\n",
              "          const element = document.querySelector('#df-ec9946a6-5c05-499f-894d-60af09ef1b7b');\n",
              "          const dataTable =\n",
              "            await google.colab.kernel.invokeFunction('convertToInteractive',\n",
              "                                                     [key], {});\n",
              "          if (!dataTable) return;\n",
              "\n",
              "          const docLinkHtml = 'Like what you see? Visit the ' +\n",
              "            '<a target=\"_blank\" href=https://colab.research.google.com/notebooks/data_table.ipynb>data table notebook</a>'\n",
              "            + ' to learn more about interactive tables.';\n",
              "          element.innerHTML = '';\n",
              "          dataTable['output_type'] = 'display_data';\n",
              "          await google.colab.output.renderOutput(dataTable, element);\n",
              "          const docLink = document.createElement('div');\n",
              "          docLink.innerHTML = docLinkHtml;\n",
              "          element.appendChild(docLink);\n",
              "        }\n",
              "      </script>\n",
              "    </div>\n",
              "  </div>\n",
              "  "
            ]
          },
          "metadata": {},
          "execution_count": 10
        }
      ]
    },
    {
      "cell_type": "markdown",
      "source": [
        "## 8. Find Occurrence of The Employee Names  (Top 5)"
      ],
      "metadata": {
        "id": "3jnObnZvFelG"
      }
    },
    {
      "cell_type": "code",
      "source": [
        "df['EmployeeName'].value_counts().head(5)"
      ],
      "metadata": {
        "colab": {
          "base_uri": "https://localhost:8080/"
        },
        "id": "kXNt5EIm9mCV",
        "outputId": "28e4fddf-2c7c-4d04-bfb7-e634e5df9db2"
      },
      "execution_count": 11,
      "outputs": [
        {
          "output_type": "execute_result",
          "data": {
            "text/plain": [
              "KEVIN LEE      9\n",
              "Kevin Lee      9\n",
              "RICHARD LEE    8\n",
              "DAVID WONG     8\n",
              "MICHAEL LEE    8\n",
              "Name: EmployeeName, dtype: int64"
            ]
          },
          "metadata": {},
          "execution_count": 11
        }
      ]
    },
    {
      "cell_type": "markdown",
      "source": [
        "## 9. Find The Number of Unique Job Titles"
      ],
      "metadata": {
        "id": "JcbhTVMoIqSO"
      }
    },
    {
      "cell_type": "code",
      "source": [
        "df['JobTitle'].unique()"
      ],
      "metadata": {
        "colab": {
          "base_uri": "https://localhost:8080/"
        },
        "id": "-bBFdrL49mEi",
        "outputId": "d6acb042-b0d7-43ae-867f-822a134ef4ca"
      },
      "execution_count": 12,
      "outputs": [
        {
          "output_type": "execute_result",
          "data": {
            "text/plain": [
              "array(['GENERAL MANAGER-METROPOLITAN TRANSIT AUTHORITY',\n",
              "       'CAPTAIN III (POLICE DEPARTMENT)',\n",
              "       'WIRE ROPE CABLE MAINTENANCE MECHANIC', ...,\n",
              "       'Public Safety Comm Tech', 'Drug Court Coordinator',\n",
              "       'IS Technician Assistant'], dtype=object)"
            ]
          },
          "metadata": {},
          "execution_count": 12
        }
      ]
    },
    {
      "cell_type": "markdown",
      "source": [
        "## 10.Total Number of Job Titles Contain Captain"
      ],
      "metadata": {
        "id": "4M94xsxBJjc7"
      }
    },
    {
      "cell_type": "code",
      "source": [
        "len(df[df['JobTitle'].str.contains('CAPTAIN',case=False)])"
      ],
      "metadata": {
        "colab": {
          "base_uri": "https://localhost:8080/"
        },
        "id": "W_YN2QAD9mGx",
        "outputId": "fc9a3e3e-a9bc-4e41-9ee4-78912e2f310c"
      },
      "execution_count": 13,
      "outputs": [
        {
          "output_type": "execute_result",
          "data": {
            "text/plain": [
              "411"
            ]
          },
          "metadata": {},
          "execution_count": 13
        }
      ]
    },
    {
      "cell_type": "markdown",
      "source": [
        "## 11. Display All the Employee Names From Fire Department"
      ],
      "metadata": {
        "id": "Z_lC42JdtdE5"
      }
    },
    {
      "cell_type": "code",
      "source": [
        "df[df['JobTitle'].str.contains('fire',case=False)]['EmployeeName']"
      ],
      "metadata": {
        "colab": {
          "base_uri": "https://localhost:8080/"
        },
        "id": "2tlG_FrdtFDV",
        "outputId": "daf931f8-d204-43bb-e043-488cb8971149"
      },
      "execution_count": 14,
      "outputs": [
        {
          "output_type": "execute_result",
          "data": {
            "text/plain": [
              "4            PATRICK GARDNER\n",
              "6                  ALSON LEE\n",
              "8             MICHAEL MORRIS\n",
              "9         JOANNE HAYES-WHITE\n",
              "10             ARTHUR KENNEY\n",
              "                 ...        \n",
              "106803      Angela T Freeman\n",
              "106846      James A Lockhart\n",
              "106858    Jennifer T DeBerry\n",
              "106864      Jonathan  Pettey\n",
              "106898      Kirsten K Conroy\n",
              "Name: EmployeeName, Length: 4362, dtype: object"
            ]
          },
          "metadata": {},
          "execution_count": 14
        }
      ]
    },
    {
      "cell_type": "markdown",
      "source": [
        "## 12. Find Minimum, Maximum, and Average BasePay"
      ],
      "metadata": {
        "id": "2iAtATkeu4MA"
      }
    },
    {
      "cell_type": "markdown",
      "source": [
        "![C.PNG](data:image/png;base64,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)"
      ],
      "metadata": {
        "id": "SqvQ1BGkCxgi"
      }
    },
    {
      "cell_type": "markdown",
      "source": [
        "![Cap.PNG](data:image/png;base64,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)"
      ],
      "metadata": {
        "id": "Yx4VoMf-C4z9"
      }
    },
    {
      "cell_type": "code",
      "source": [
        "#convert Basepay into float to find average\n",
        "df['BasePay']=df['BasePay'].apply(pd.to_numeric,errors='coerce')"
      ],
      "metadata": {
        "id": "ChaqYjyLBtPY"
      },
      "execution_count": 15,
      "outputs": []
    },
    {
      "cell_type": "code",
      "source": [
        "df['BasePay'].min()"
      ],
      "metadata": {
        "colab": {
          "base_uri": "https://localhost:8080/"
        },
        "id": "H-rcZ_6Kto4H",
        "outputId": "b828ed73-4e22-4f86-d794-d9763b7e760d"
      },
      "execution_count": 16,
      "outputs": [
        {
          "output_type": "execute_result",
          "data": {
            "text/plain": [
              "-166.01"
            ]
          },
          "metadata": {},
          "execution_count": 16
        }
      ]
    },
    {
      "cell_type": "code",
      "source": [
        "df['BasePay'].max()"
      ],
      "metadata": {
        "colab": {
          "base_uri": "https://localhost:8080/"
        },
        "id": "DoknHWxOB2dc",
        "outputId": "0fc1c2fc-fbbd-4cfe-f5d2-efcb561d3d09"
      },
      "execution_count": 17,
      "outputs": [
        {
          "output_type": "execute_result",
          "data": {
            "text/plain": [
              "319275.01"
            ]
          },
          "metadata": {},
          "execution_count": 17
        }
      ]
    },
    {
      "cell_type": "code",
      "source": [
        "df['BasePay'].mean()"
      ],
      "metadata": {
        "colab": {
          "base_uri": "https://localhost:8080/"
        },
        "id": "jlbO7o4qto7N",
        "outputId": "a47510ca-d9c9-4c1a-ab49-12483eff9b7e"
      },
      "execution_count": 18,
      "outputs": [
        {
          "output_type": "execute_result",
          "data": {
            "text/plain": [
              "68165.60588080912"
            ]
          },
          "metadata": {},
          "execution_count": 18
        }
      ]
    },
    {
      "cell_type": "markdown",
      "source": [
        "# **13. Replace 'Not Provided' in EmployeeName' Column to NaN**"
      ],
      "metadata": {
        "id": "88va3CVRDyiM"
      }
    },
    {
      "cell_type": "code",
      "source": [
        "df['EmployeeName']=df['EmployeeName'].replace('Not Provided',np.nan)"
      ],
      "metadata": {
        "id": "xWMbHFBWB6cU"
      },
      "execution_count": 19,
      "outputs": []
    },
    {
      "cell_type": "code",
      "source": [
        "df['EmployeeName']"
      ],
      "metadata": {
        "colab": {
          "base_uri": "https://localhost:8080/"
        },
        "id": "DQn7Pk2xEHt2",
        "outputId": "51a18e93-134e-4b75-c7cd-19ba2205c7e3"
      },
      "execution_count": 20,
      "outputs": [
        {
          "output_type": "execute_result",
          "data": {
            "text/plain": [
              "0            NATHANIEL FORD\n",
              "1              GARY JIMENEZ\n",
              "2            ALBERT PARDINI\n",
              "3         CHRISTOPHER CHONG\n",
              "4           PATRICK GARDNER\n",
              "                ...        \n",
              "107126       Murlvin L Lest\n",
              "107127         Erin R Tolva\n",
              "107128       Zhuo Jun  Chen\n",
              "107129     Billy R Courtney\n",
              "107130          Steven  Tan\n",
              "Name: EmployeeName, Length: 107131, dtype: object"
            ]
          },
          "metadata": {},
          "execution_count": 20
        }
      ]
    },
    {
      "cell_type": "markdown",
      "source": [
        "# **14. Drop The Rows Having 3 Missing Values**"
      ],
      "metadata": {
        "id": "W1834KfkEpqa"
      }
    },
    {
      "cell_type": "code",
      "source": [
        "df.drop(df[df.isnull().sum(axis=1)==3].index,axis=0,inplace=True)"
      ],
      "metadata": {
        "id": "4oMfomDkEKWi"
      },
      "execution_count": 21,
      "outputs": []
    },
    {
      "cell_type": "code",
      "source": [
        "df[df.isnull().sum(axis=1)==3]"
      ],
      "metadata": {
        "colab": {
          "base_uri": "https://localhost:8080/",
          "height": 49
        },
        "id": "AbiPsLGUE2X9",
        "outputId": "ec59a646-a3be-474f-d26a-48fcacb4934a"
      },
      "execution_count": 22,
      "outputs": [
        {
          "output_type": "execute_result",
          "data": {
            "text/plain": [
              "Empty DataFrame\n",
              "Columns: [EmployeeName, JobTitle, BasePay, OvertimePay, OtherPay, Benefits, TotalPay, TotalPayBenefits, Year, Notes]\n",
              "Index: []"
            ],
            "text/html": [
              "\n",
              "  <div id=\"df-92c9e88e-a02b-465d-b179-bbab370b8135\">\n",
              "    <div class=\"colab-df-container\">\n",
              "      <div>\n",
              "<style scoped>\n",
              "    .dataframe tbody tr th:only-of-type {\n",
              "        vertical-align: middle;\n",
              "    }\n",
              "\n",
              "    .dataframe tbody tr th {\n",
              "        vertical-align: top;\n",
              "    }\n",
              "\n",
              "    .dataframe thead th {\n",
              "        text-align: right;\n",
              "    }\n",
              "</style>\n",
              "<table border=\"1\" class=\"dataframe\">\n",
              "  <thead>\n",
              "    <tr style=\"text-align: right;\">\n",
              "      <th></th>\n",
              "      <th>EmployeeName</th>\n",
              "      <th>JobTitle</th>\n",
              "      <th>BasePay</th>\n",
              "      <th>OvertimePay</th>\n",
              "      <th>OtherPay</th>\n",
              "      <th>Benefits</th>\n",
              "      <th>TotalPay</th>\n",
              "      <th>TotalPayBenefits</th>\n",
              "      <th>Year</th>\n",
              "      <th>Notes</th>\n",
              "    </tr>\n",
              "  </thead>\n",
              "  <tbody>\n",
              "  </tbody>\n",
              "</table>\n",
              "</div>\n",
              "      <button class=\"colab-df-convert\" onclick=\"convertToInteractive('df-92c9e88e-a02b-465d-b179-bbab370b8135')\"\n",
              "              title=\"Convert this dataframe to an interactive table.\"\n",
              "              style=\"display:none;\">\n",
              "        \n",
              "  <svg xmlns=\"http://www.w3.org/2000/svg\" height=\"24px\"viewBox=\"0 0 24 24\"\n",
              "       width=\"24px\">\n",
              "    <path d=\"M0 0h24v24H0V0z\" fill=\"none\"/>\n",
              "    <path d=\"M18.56 5.44l.94 2.06.94-2.06 2.06-.94-2.06-.94-.94-2.06-.94 2.06-2.06.94zm-11 1L8.5 8.5l.94-2.06 2.06-.94-2.06-.94L8.5 2.5l-.94 2.06-2.06.94zm10 10l.94 2.06.94-2.06 2.06-.94-2.06-.94-.94-2.06-.94 2.06-2.06.94z\"/><path d=\"M17.41 7.96l-1.37-1.37c-.4-.4-.92-.59-1.43-.59-.52 0-1.04.2-1.43.59L10.3 9.45l-7.72 7.72c-.78.78-.78 2.05 0 2.83L4 21.41c.39.39.9.59 1.41.59.51 0 1.02-.2 1.41-.59l7.78-7.78 2.81-2.81c.8-.78.8-2.07 0-2.86zM5.41 20L4 18.59l7.72-7.72 1.47 1.35L5.41 20z\"/>\n",
              "  </svg>\n",
              "      </button>\n",
              "      \n",
              "  <style>\n",
              "    .colab-df-container {\n",
              "      display:flex;\n",
              "      flex-wrap:wrap;\n",
              "      gap: 12px;\n",
              "    }\n",
              "\n",
              "    .colab-df-convert {\n",
              "      background-color: #E8F0FE;\n",
              "      border: none;\n",
              "      border-radius: 50%;\n",
              "      cursor: pointer;\n",
              "      display: none;\n",
              "      fill: #1967D2;\n",
              "      height: 32px;\n",
              "      padding: 0 0 0 0;\n",
              "      width: 32px;\n",
              "    }\n",
              "\n",
              "    .colab-df-convert:hover {\n",
              "      background-color: #E2EBFA;\n",
              "      box-shadow: 0px 1px 2px rgba(60, 64, 67, 0.3), 0px 1px 3px 1px rgba(60, 64, 67, 0.15);\n",
              "      fill: #174EA6;\n",
              "    }\n",
              "\n",
              "    [theme=dark] .colab-df-convert {\n",
              "      background-color: #3B4455;\n",
              "      fill: #D2E3FC;\n",
              "    }\n",
              "\n",
              "    [theme=dark] .colab-df-convert:hover {\n",
              "      background-color: #434B5C;\n",
              "      box-shadow: 0px 1px 3px 1px rgba(0, 0, 0, 0.15);\n",
              "      filter: drop-shadow(0px 1px 2px rgba(0, 0, 0, 0.3));\n",
              "      fill: #FFFFFF;\n",
              "    }\n",
              "  </style>\n",
              "\n",
              "      <script>\n",
              "        const buttonEl =\n",
              "          document.querySelector('#df-92c9e88e-a02b-465d-b179-bbab370b8135 button.colab-df-convert');\n",
              "        buttonEl.style.display =\n",
              "          google.colab.kernel.accessAllowed ? 'block' : 'none';\n",
              "\n",
              "        async function convertToInteractive(key) {\n",
              "          const element = document.querySelector('#df-92c9e88e-a02b-465d-b179-bbab370b8135');\n",
              "          const dataTable =\n",
              "            await google.colab.kernel.invokeFunction('convertToInteractive',\n",
              "                                                     [key], {});\n",
              "          if (!dataTable) return;\n",
              "\n",
              "          const docLinkHtml = 'Like what you see? Visit the ' +\n",
              "            '<a target=\"_blank\" href=https://colab.research.google.com/notebooks/data_table.ipynb>data table notebook</a>'\n",
              "            + ' to learn more about interactive tables.';\n",
              "          element.innerHTML = '';\n",
              "          dataTable['output_type'] = 'display_data';\n",
              "          await google.colab.output.renderOutput(dataTable, element);\n",
              "          const docLink = document.createElement('div');\n",
              "          docLink.innerHTML = docLinkHtml;\n",
              "          element.appendChild(docLink);\n",
              "        }\n",
              "      </script>\n",
              "    </div>\n",
              "  </div>\n",
              "  "
            ]
          },
          "metadata": {},
          "execution_count": 22
        }
      ]
    },
    {
      "cell_type": "markdown",
      "source": [
        "# **15. Find Job Title of ALBERT PARDINI**"
      ],
      "metadata": {
        "id": "fX0DA_9eFzyz"
      }
    },
    {
      "cell_type": "code",
      "source": [
        "df[df['EmployeeName']=='ALBERT PARDINI']['JobTitle']"
      ],
      "metadata": {
        "colab": {
          "base_uri": "https://localhost:8080/"
        },
        "id": "Ha2_eUuWFyGu",
        "outputId": "c2ce65f7-0ef2-48e2-ec0d-013a2de44fd7"
      },
      "execution_count": 23,
      "outputs": [
        {
          "output_type": "execute_result",
          "data": {
            "text/plain": [
              "2    CAPTAIN III (POLICE DEPARTMENT)\n",
              "Name: JobTitle, dtype: object"
            ]
          },
          "metadata": {},
          "execution_count": 23
        }
      ]
    },
    {
      "cell_type": "markdown",
      "source": [
        "# **16. How Much ALBERT PARDINI Make (Include Benefits)?**"
      ],
      "metadata": {
        "id": "b3zh4MkcG4yB"
      }
    },
    {
      "cell_type": "code",
      "source": [
        "df[df['EmployeeName']=='ALBERT PARDINI']['TotalPayBenefits']"
      ],
      "metadata": {
        "colab": {
          "base_uri": "https://localhost:8080/"
        },
        "id": "hoQYk6VFGb9q",
        "outputId": "52932b4b-3dbd-4452-85e6-0472b20d7d61"
      },
      "execution_count": 24,
      "outputs": [
        {
          "output_type": "execute_result",
          "data": {
            "text/plain": [
              "2    335279.91\n",
              "Name: TotalPayBenefits, dtype: float64"
            ]
          },
          "metadata": {},
          "execution_count": 24
        }
      ]
    },
    {
      "cell_type": "markdown",
      "source": [
        "# **17.Display Name of The Person Having The Highest BasePay**"
      ],
      "metadata": {
        "id": "MVsZ0VaBHVAx"
      }
    },
    {
      "cell_type": "code",
      "source": [
        "df[df['BasePay']==df['BasePay'].max()]['EmployeeName']"
      ],
      "metadata": {
        "colab": {
          "base_uri": "https://localhost:8080/"
        },
        "id": "coemNxyaHNNG",
        "outputId": "705efc0c-9f1f-48d4-e60e-c0915da264bb"
      },
      "execution_count": 25,
      "outputs": [
        {
          "output_type": "execute_result",
          "data": {
            "text/plain": [
              "72925    Gregory P Suhr\n",
              "Name: EmployeeName, dtype: object"
            ]
          },
          "metadata": {},
          "execution_count": 25
        }
      ]
    },
    {
      "cell_type": "markdown",
      "source": [
        "# **18.Find Average BasePay of All Employee Per Year**"
      ],
      "metadata": {
        "id": "56OIm7RSIrbL"
      }
    },
    {
      "cell_type": "code",
      "source": [
        "df.groupby('Year').agg({'BasePay':'mean'})"
      ],
      "metadata": {
        "colab": {
          "base_uri": "https://localhost:8080/",
          "height": 175
        },
        "id": "xiAQMQLgIh_Q",
        "outputId": "4a627035-b33a-439a-d52d-6821f7fabd8f"
      },
      "execution_count": 26,
      "outputs": [
        {
          "output_type": "execute_result",
          "data": {
            "text/plain": [
              "           BasePay\n",
              "Year              \n",
              "2011  63596.112293\n",
              "2012  65436.406857\n",
              "2013  76031.951150"
            ],
            "text/html": [
              "\n",
              "  <div id=\"df-022fc025-b9e4-48d3-9352-f10535a4d7d5\">\n",
              "    <div class=\"colab-df-container\">\n",
              "      <div>\n",
              "<style scoped>\n",
              "    .dataframe tbody tr th:only-of-type {\n",
              "        vertical-align: middle;\n",
              "    }\n",
              "\n",
              "    .dataframe tbody tr th {\n",
              "        vertical-align: top;\n",
              "    }\n",
              "\n",
              "    .dataframe thead th {\n",
              "        text-align: right;\n",
              "    }\n",
              "</style>\n",
              "<table border=\"1\" class=\"dataframe\">\n",
              "  <thead>\n",
              "    <tr style=\"text-align: right;\">\n",
              "      <th></th>\n",
              "      <th>BasePay</th>\n",
              "    </tr>\n",
              "    <tr>\n",
              "      <th>Year</th>\n",
              "      <th></th>\n",
              "    </tr>\n",
              "  </thead>\n",
              "  <tbody>\n",
              "    <tr>\n",
              "      <th>2011</th>\n",
              "      <td>63596.112293</td>\n",
              "    </tr>\n",
              "    <tr>\n",
              "      <th>2012</th>\n",
              "      <td>65436.406857</td>\n",
              "    </tr>\n",
              "    <tr>\n",
              "      <th>2013</th>\n",
              "      <td>76031.951150</td>\n",
              "    </tr>\n",
              "  </tbody>\n",
              "</table>\n",
              "</div>\n",
              "      <button class=\"colab-df-convert\" onclick=\"convertToInteractive('df-022fc025-b9e4-48d3-9352-f10535a4d7d5')\"\n",
              "              title=\"Convert this dataframe to an interactive table.\"\n",
              "              style=\"display:none;\">\n",
              "        \n",
              "  <svg xmlns=\"http://www.w3.org/2000/svg\" height=\"24px\"viewBox=\"0 0 24 24\"\n",
              "       width=\"24px\">\n",
              "    <path d=\"M0 0h24v24H0V0z\" fill=\"none\"/>\n",
              "    <path d=\"M18.56 5.44l.94 2.06.94-2.06 2.06-.94-2.06-.94-.94-2.06-.94 2.06-2.06.94zm-11 1L8.5 8.5l.94-2.06 2.06-.94-2.06-.94L8.5 2.5l-.94 2.06-2.06.94zm10 10l.94 2.06.94-2.06 2.06-.94-2.06-.94-.94-2.06-.94 2.06-2.06.94z\"/><path d=\"M17.41 7.96l-1.37-1.37c-.4-.4-.92-.59-1.43-.59-.52 0-1.04.2-1.43.59L10.3 9.45l-7.72 7.72c-.78.78-.78 2.05 0 2.83L4 21.41c.39.39.9.59 1.41.59.51 0 1.02-.2 1.41-.59l7.78-7.78 2.81-2.81c.8-.78.8-2.07 0-2.86zM5.41 20L4 18.59l7.72-7.72 1.47 1.35L5.41 20z\"/>\n",
              "  </svg>\n",
              "      </button>\n",
              "      \n",
              "  <style>\n",
              "    .colab-df-container {\n",
              "      display:flex;\n",
              "      flex-wrap:wrap;\n",
              "      gap: 12px;\n",
              "    }\n",
              "\n",
              "    .colab-df-convert {\n",
              "      background-color: #E8F0FE;\n",
              "      border: none;\n",
              "      border-radius: 50%;\n",
              "      cursor: pointer;\n",
              "      display: none;\n",
              "      fill: #1967D2;\n",
              "      height: 32px;\n",
              "      padding: 0 0 0 0;\n",
              "      width: 32px;\n",
              "    }\n",
              "\n",
              "    .colab-df-convert:hover {\n",
              "      background-color: #E2EBFA;\n",
              "      box-shadow: 0px 1px 2px rgba(60, 64, 67, 0.3), 0px 1px 3px 1px rgba(60, 64, 67, 0.15);\n",
              "      fill: #174EA6;\n",
              "    }\n",
              "\n",
              "    [theme=dark] .colab-df-convert {\n",
              "      background-color: #3B4455;\n",
              "      fill: #D2E3FC;\n",
              "    }\n",
              "\n",
              "    [theme=dark] .colab-df-convert:hover {\n",
              "      background-color: #434B5C;\n",
              "      box-shadow: 0px 1px 3px 1px rgba(0, 0, 0, 0.15);\n",
              "      filter: drop-shadow(0px 1px 2px rgba(0, 0, 0, 0.3));\n",
              "      fill: #FFFFFF;\n",
              "    }\n",
              "  </style>\n",
              "\n",
              "      <script>\n",
              "        const buttonEl =\n",
              "          document.querySelector('#df-022fc025-b9e4-48d3-9352-f10535a4d7d5 button.colab-df-convert');\n",
              "        buttonEl.style.display =\n",
              "          google.colab.kernel.accessAllowed ? 'block' : 'none';\n",
              "\n",
              "        async function convertToInteractive(key) {\n",
              "          const element = document.querySelector('#df-022fc025-b9e4-48d3-9352-f10535a4d7d5');\n",
              "          const dataTable =\n",
              "            await google.colab.kernel.invokeFunction('convertToInteractive',\n",
              "                                                     [key], {});\n",
              "          if (!dataTable) return;\n",
              "\n",
              "          const docLinkHtml = 'Like what you see? Visit the ' +\n",
              "            '<a target=\"_blank\" href=https://colab.research.google.com/notebooks/data_table.ipynb>data table notebook</a>'\n",
              "            + ' to learn more about interactive tables.';\n",
              "          element.innerHTML = '';\n",
              "          dataTable['output_type'] = 'display_data';\n",
              "          await google.colab.output.renderOutput(dataTable, element);\n",
              "          const docLink = document.createElement('div');\n",
              "          docLink.innerHTML = docLinkHtml;\n",
              "          element.appendChild(docLink);\n",
              "        }\n",
              "      </script>\n",
              "    </div>\n",
              "  </div>\n",
              "  "
            ]
          },
          "metadata": {},
          "execution_count": 26
        }
      ]
    },
    {
      "cell_type": "markdown",
      "source": [
        "# **19. Find Average BasePay of All Employee Per JobTitle**"
      ],
      "metadata": {
        "id": "7YN8My8uJrPO"
      }
    },
    {
      "cell_type": "code",
      "source": [
        "df.groupby('JobTitle').agg({'BasePay':'mean'})"
      ],
      "metadata": {
        "colab": {
          "base_uri": "https://localhost:8080/",
          "height": 455
        },
        "id": "YmdVpDFtJpDa",
        "outputId": "d8d5fbe3-429e-49f3-9917-30e7d77d6b1b"
      },
      "execution_count": 27,
      "outputs": [
        {
          "output_type": "execute_result",
          "data": {
            "text/plain": [
              "                                                     BasePay\n",
              "JobTitle                                                    \n",
              "ACCOUNT CLERK                                   43300.806506\n",
              "ACCOUNTANT                                      46643.172000\n",
              "ACCOUNTANT INTERN                               28732.663958\n",
              "ACUPUNCTURIST                                   66374.400000\n",
              "ADMINISTRATIVE ANALYST                          63435.628602\n",
              "...                                                      ...\n",
              "X-RAY LABORATORY AIDE                           47664.773077\n",
              "X-Ray Laboratory Aide                           47765.098730\n",
              "YOUTH COMMISSION ADVISOR, BOARD OF SUPERVISORS  52609.910000\n",
              "Youth Comm Advisor                              41298.136667\n",
              "ZOO CURATOR                                     43148.000000\n",
              "\n",
              "[2123 rows x 1 columns]"
            ],
            "text/html": [
              "\n",
              "  <div id=\"df-8438def2-0e90-4027-b34f-7b8ea1f9ce01\">\n",
              "    <div class=\"colab-df-container\">\n",
              "      <div>\n",
              "<style scoped>\n",
              "    .dataframe tbody tr th:only-of-type {\n",
              "        vertical-align: middle;\n",
              "    }\n",
              "\n",
              "    .dataframe tbody tr th {\n",
              "        vertical-align: top;\n",
              "    }\n",
              "\n",
              "    .dataframe thead th {\n",
              "        text-align: right;\n",
              "    }\n",
              "</style>\n",
              "<table border=\"1\" class=\"dataframe\">\n",
              "  <thead>\n",
              "    <tr style=\"text-align: right;\">\n",
              "      <th></th>\n",
              "      <th>BasePay</th>\n",
              "    </tr>\n",
              "    <tr>\n",
              "      <th>JobTitle</th>\n",
              "      <th></th>\n",
              "    </tr>\n",
              "  </thead>\n",
              "  <tbody>\n",
              "    <tr>\n",
              "      <th>ACCOUNT CLERK</th>\n",
              "      <td>43300.806506</td>\n",
              "    </tr>\n",
              "    <tr>\n",
              "      <th>ACCOUNTANT</th>\n",
              "      <td>46643.172000</td>\n",
              "    </tr>\n",
              "    <tr>\n",
              "      <th>ACCOUNTANT INTERN</th>\n",
              "      <td>28732.663958</td>\n",
              "    </tr>\n",
              "    <tr>\n",
              "      <th>ACUPUNCTURIST</th>\n",
              "      <td>66374.400000</td>\n",
              "    </tr>\n",
              "    <tr>\n",
              "      <th>ADMINISTRATIVE ANALYST</th>\n",
              "      <td>63435.628602</td>\n",
              "    </tr>\n",
              "    <tr>\n",
              "      <th>...</th>\n",
              "      <td>...</td>\n",
              "    </tr>\n",
              "    <tr>\n",
              "      <th>X-RAY LABORATORY AIDE</th>\n",
              "      <td>47664.773077</td>\n",
              "    </tr>\n",
              "    <tr>\n",
              "      <th>X-Ray Laboratory Aide</th>\n",
              "      <td>47765.098730</td>\n",
              "    </tr>\n",
              "    <tr>\n",
              "      <th>YOUTH COMMISSION ADVISOR, BOARD OF SUPERVISORS</th>\n",
              "      <td>52609.910000</td>\n",
              "    </tr>\n",
              "    <tr>\n",
              "      <th>Youth Comm Advisor</th>\n",
              "      <td>41298.136667</td>\n",
              "    </tr>\n",
              "    <tr>\n",
              "      <th>ZOO CURATOR</th>\n",
              "      <td>43148.000000</td>\n",
              "    </tr>\n",
              "  </tbody>\n",
              "</table>\n",
              "<p>2123 rows × 1 columns</p>\n",
              "</div>\n",
              "      <button class=\"colab-df-convert\" onclick=\"convertToInteractive('df-8438def2-0e90-4027-b34f-7b8ea1f9ce01')\"\n",
              "              title=\"Convert this dataframe to an interactive table.\"\n",
              "              style=\"display:none;\">\n",
              "        \n",
              "  <svg xmlns=\"http://www.w3.org/2000/svg\" height=\"24px\"viewBox=\"0 0 24 24\"\n",
              "       width=\"24px\">\n",
              "    <path d=\"M0 0h24v24H0V0z\" fill=\"none\"/>\n",
              "    <path d=\"M18.56 5.44l.94 2.06.94-2.06 2.06-.94-2.06-.94-.94-2.06-.94 2.06-2.06.94zm-11 1L8.5 8.5l.94-2.06 2.06-.94-2.06-.94L8.5 2.5l-.94 2.06-2.06.94zm10 10l.94 2.06.94-2.06 2.06-.94-2.06-.94-.94-2.06-.94 2.06-2.06.94z\"/><path d=\"M17.41 7.96l-1.37-1.37c-.4-.4-.92-.59-1.43-.59-.52 0-1.04.2-1.43.59L10.3 9.45l-7.72 7.72c-.78.78-.78 2.05 0 2.83L4 21.41c.39.39.9.59 1.41.59.51 0 1.02-.2 1.41-.59l7.78-7.78 2.81-2.81c.8-.78.8-2.07 0-2.86zM5.41 20L4 18.59l7.72-7.72 1.47 1.35L5.41 20z\"/>\n",
              "  </svg>\n",
              "      </button>\n",
              "      \n",
              "  <style>\n",
              "    .colab-df-container {\n",
              "      display:flex;\n",
              "      flex-wrap:wrap;\n",
              "      gap: 12px;\n",
              "    }\n",
              "\n",
              "    .colab-df-convert {\n",
              "      background-color: #E8F0FE;\n",
              "      border: none;\n",
              "      border-radius: 50%;\n",
              "      cursor: pointer;\n",
              "      display: none;\n",
              "      fill: #1967D2;\n",
              "      height: 32px;\n",
              "      padding: 0 0 0 0;\n",
              "      width: 32px;\n",
              "    }\n",
              "\n",
              "    .colab-df-convert:hover {\n",
              "      background-color: #E2EBFA;\n",
              "      box-shadow: 0px 1px 2px rgba(60, 64, 67, 0.3), 0px 1px 3px 1px rgba(60, 64, 67, 0.15);\n",
              "      fill: #174EA6;\n",
              "    }\n",
              "\n",
              "    [theme=dark] .colab-df-convert {\n",
              "      background-color: #3B4455;\n",
              "      fill: #D2E3FC;\n",
              "    }\n",
              "\n",
              "    [theme=dark] .colab-df-convert:hover {\n",
              "      background-color: #434B5C;\n",
              "      box-shadow: 0px 1px 3px 1px rgba(0, 0, 0, 0.15);\n",
              "      filter: drop-shadow(0px 1px 2px rgba(0, 0, 0, 0.3));\n",
              "      fill: #FFFFFF;\n",
              "    }\n",
              "  </style>\n",
              "\n",
              "      <script>\n",
              "        const buttonEl =\n",
              "          document.querySelector('#df-8438def2-0e90-4027-b34f-7b8ea1f9ce01 button.colab-df-convert');\n",
              "        buttonEl.style.display =\n",
              "          google.colab.kernel.accessAllowed ? 'block' : 'none';\n",
              "\n",
              "        async function convertToInteractive(key) {\n",
              "          const element = document.querySelector('#df-8438def2-0e90-4027-b34f-7b8ea1f9ce01');\n",
              "          const dataTable =\n",
              "            await google.colab.kernel.invokeFunction('convertToInteractive',\n",
              "                                                     [key], {});\n",
              "          if (!dataTable) return;\n",
              "\n",
              "          const docLinkHtml = 'Like what you see? Visit the ' +\n",
              "            '<a target=\"_blank\" href=https://colab.research.google.com/notebooks/data_table.ipynb>data table notebook</a>'\n",
              "            + ' to learn more about interactive tables.';\n",
              "          element.innerHTML = '';\n",
              "          dataTable['output_type'] = 'display_data';\n",
              "          await google.colab.output.renderOutput(dataTable, element);\n",
              "          const docLink = document.createElement('div');\n",
              "          docLink.innerHTML = docLinkHtml;\n",
              "          element.appendChild(docLink);\n",
              "        }\n",
              "      </script>\n",
              "    </div>\n",
              "  </div>\n",
              "  "
            ]
          },
          "metadata": {},
          "execution_count": 27
        }
      ]
    },
    {
      "cell_type": "markdown",
      "source": [
        "# ***20. Find Average BasePay of Employee Having Job Title ACCOUNTANT ***"
      ],
      "metadata": {
        "id": "XKGS_vDiKZxK"
      }
    },
    {
      "cell_type": "code",
      "source": [
        "df.groupby(df['JobTitle']=='ACCOUNTANT').agg({'BasePay':'mean'})"
      ],
      "metadata": {
        "colab": {
          "base_uri": "https://localhost:8080/",
          "height": 143
        },
        "id": "DDIpJdykKB8K",
        "outputId": "c9551487-0780-4754-be30-d6375d85d923"
      },
      "execution_count": 28,
      "outputs": [
        {
          "output_type": "execute_result",
          "data": {
            "text/plain": [
              "               BasePay\n",
              "JobTitle              \n",
              "False     68166.710253\n",
              "True      46643.172000"
            ],
            "text/html": [
              "\n",
              "  <div id=\"df-2367afa5-d9d8-43f5-8ccf-3f84428e8310\">\n",
              "    <div class=\"colab-df-container\">\n",
              "      <div>\n",
              "<style scoped>\n",
              "    .dataframe tbody tr th:only-of-type {\n",
              "        vertical-align: middle;\n",
              "    }\n",
              "\n",
              "    .dataframe tbody tr th {\n",
              "        vertical-align: top;\n",
              "    }\n",
              "\n",
              "    .dataframe thead th {\n",
              "        text-align: right;\n",
              "    }\n",
              "</style>\n",
              "<table border=\"1\" class=\"dataframe\">\n",
              "  <thead>\n",
              "    <tr style=\"text-align: right;\">\n",
              "      <th></th>\n",
              "      <th>BasePay</th>\n",
              "    </tr>\n",
              "    <tr>\n",
              "      <th>JobTitle</th>\n",
              "      <th></th>\n",
              "    </tr>\n",
              "  </thead>\n",
              "  <tbody>\n",
              "    <tr>\n",
              "      <th>False</th>\n",
              "      <td>68166.710253</td>\n",
              "    </tr>\n",
              "    <tr>\n",
              "      <th>True</th>\n",
              "      <td>46643.172000</td>\n",
              "    </tr>\n",
              "  </tbody>\n",
              "</table>\n",
              "</div>\n",
              "      <button class=\"colab-df-convert\" onclick=\"convertToInteractive('df-2367afa5-d9d8-43f5-8ccf-3f84428e8310')\"\n",
              "              title=\"Convert this dataframe to an interactive table.\"\n",
              "              style=\"display:none;\">\n",
              "        \n",
              "  <svg xmlns=\"http://www.w3.org/2000/svg\" height=\"24px\"viewBox=\"0 0 24 24\"\n",
              "       width=\"24px\">\n",
              "    <path d=\"M0 0h24v24H0V0z\" fill=\"none\"/>\n",
              "    <path d=\"M18.56 5.44l.94 2.06.94-2.06 2.06-.94-2.06-.94-.94-2.06-.94 2.06-2.06.94zm-11 1L8.5 8.5l.94-2.06 2.06-.94-2.06-.94L8.5 2.5l-.94 2.06-2.06.94zm10 10l.94 2.06.94-2.06 2.06-.94-2.06-.94-.94-2.06-.94 2.06-2.06.94z\"/><path d=\"M17.41 7.96l-1.37-1.37c-.4-.4-.92-.59-1.43-.59-.52 0-1.04.2-1.43.59L10.3 9.45l-7.72 7.72c-.78.78-.78 2.05 0 2.83L4 21.41c.39.39.9.59 1.41.59.51 0 1.02-.2 1.41-.59l7.78-7.78 2.81-2.81c.8-.78.8-2.07 0-2.86zM5.41 20L4 18.59l7.72-7.72 1.47 1.35L5.41 20z\"/>\n",
              "  </svg>\n",
              "      </button>\n",
              "      \n",
              "  <style>\n",
              "    .colab-df-container {\n",
              "      display:flex;\n",
              "      flex-wrap:wrap;\n",
              "      gap: 12px;\n",
              "    }\n",
              "\n",
              "    .colab-df-convert {\n",
              "      background-color: #E8F0FE;\n",
              "      border: none;\n",
              "      border-radius: 50%;\n",
              "      cursor: pointer;\n",
              "      display: none;\n",
              "      fill: #1967D2;\n",
              "      height: 32px;\n",
              "      padding: 0 0 0 0;\n",
              "      width: 32px;\n",
              "    }\n",
              "\n",
              "    .colab-df-convert:hover {\n",
              "      background-color: #E2EBFA;\n",
              "      box-shadow: 0px 1px 2px rgba(60, 64, 67, 0.3), 0px 1px 3px 1px rgba(60, 64, 67, 0.15);\n",
              "      fill: #174EA6;\n",
              "    }\n",
              "\n",
              "    [theme=dark] .colab-df-convert {\n",
              "      background-color: #3B4455;\n",
              "      fill: #D2E3FC;\n",
              "    }\n",
              "\n",
              "    [theme=dark] .colab-df-convert:hover {\n",
              "      background-color: #434B5C;\n",
              "      box-shadow: 0px 1px 3px 1px rgba(0, 0, 0, 0.15);\n",
              "      filter: drop-shadow(0px 1px 2px rgba(0, 0, 0, 0.3));\n",
              "      fill: #FFFFFF;\n",
              "    }\n",
              "  </style>\n",
              "\n",
              "      <script>\n",
              "        const buttonEl =\n",
              "          document.querySelector('#df-2367afa5-d9d8-43f5-8ccf-3f84428e8310 button.colab-df-convert');\n",
              "        buttonEl.style.display =\n",
              "          google.colab.kernel.accessAllowed ? 'block' : 'none';\n",
              "\n",
              "        async function convertToInteractive(key) {\n",
              "          const element = document.querySelector('#df-2367afa5-d9d8-43f5-8ccf-3f84428e8310');\n",
              "          const dataTable =\n",
              "            await google.colab.kernel.invokeFunction('convertToInteractive',\n",
              "                                                     [key], {});\n",
              "          if (!dataTable) return;\n",
              "\n",
              "          const docLinkHtml = 'Like what you see? Visit the ' +\n",
              "            '<a target=\"_blank\" href=https://colab.research.google.com/notebooks/data_table.ipynb>data table notebook</a>'\n",
              "            + ' to learn more about interactive tables.';\n",
              "          element.innerHTML = '';\n",
              "          dataTable['output_type'] = 'display_data';\n",
              "          await google.colab.output.renderOutput(dataTable, element);\n",
              "          const docLink = document.createElement('div');\n",
              "          docLink.innerHTML = docLinkHtml;\n",
              "          element.appendChild(docLink);\n",
              "        }\n",
              "      </script>\n",
              "    </div>\n",
              "  </div>\n",
              "  "
            ]
          },
          "metadata": {},
          "execution_count": 28
        }
      ]
    },
    {
      "cell_type": "markdown",
      "source": [
        "# **21. Find Top 5 Most Common Jobs**"
      ],
      "metadata": {
        "id": "Lbiw4Ve9LAKh"
      }
    },
    {
      "cell_type": "code",
      "source": [
        "df['JobTitle'].value_counts()"
      ],
      "metadata": {
        "colab": {
          "base_uri": "https://localhost:8080/"
        },
        "id": "mBCXrbMHKzY9",
        "outputId": "a3d3869e-e7c3-42f7-a86f-90cf9e44e7ac"
      },
      "execution_count": 34,
      "outputs": [
        {
          "output_type": "execute_result",
          "data": {
            "text/plain": [
              "Transit Operator                                   4489\n",
              "Special Nurse                                      2528\n",
              "Registered Nurse                                   2490\n",
              "TRANSIT OPERATOR                                   2388\n",
              "Police Officer 3                                   1635\n",
              "                                                   ... \n",
              "BRAILLIST                                             1\n",
              "HEAVY EQUIPMENT OPERATIONS ASSISTANT SUPERVISOR       1\n",
              "SHADE AND DRAPERY WORKER                              1\n",
              "TRAINING COORDINATOR                                  1\n",
              "IS Technician Assistant                               1\n",
              "Name: JobTitle, Length: 2123, dtype: int64"
            ]
          },
          "metadata": {},
          "execution_count": 34
        }
      ]
    }
  ]
}